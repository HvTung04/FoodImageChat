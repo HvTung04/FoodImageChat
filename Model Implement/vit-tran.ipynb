{
 "cells": [
  {
   "cell_type": "code",
   "execution_count": 14,
   "metadata": {
    "execution": {
     "iopub.execute_input": "2024-12-07T09:07:36.124420Z",
     "iopub.status.busy": "2024-12-07T09:07:36.123515Z",
     "iopub.status.idle": "2024-12-07T09:07:36.128606Z",
     "shell.execute_reply": "2024-12-07T09:07:36.127879Z",
     "shell.execute_reply.started": "2024-12-07T09:07:36.124389Z"
    },
    "trusted": true
   },
   "outputs": [],
   "source": [
    "import pandas as pd\n",
    "import torch\n",
    "from torch.utils.data import Dataset, DataLoader\n",
    "from torchvision.transforms import (CenterCrop, Compose, Normalize, RandomHorizontalFlip,\n",
    "                                    RandomResizedCrop, Resize, ToTensor)\n",
    "from transformers import ViTForImageClassification, ViTImageProcessor, TrainingArguments, Trainer\n",
    "import pandas as pd\n",
    "from PIL import Image\n",
    "import numpy as np\n",
    "import os"
   ]
  },
  {
   "cell_type": "code",
   "execution_count": 15,
   "metadata": {
    "execution": {
     "iopub.execute_input": "2024-12-07T09:07:36.130213Z",
     "iopub.status.busy": "2024-12-07T09:07:36.129860Z",
     "iopub.status.idle": "2024-12-07T09:07:36.140802Z",
     "shell.execute_reply": "2024-12-07T09:07:36.140009Z",
     "shell.execute_reply.started": "2024-12-07T09:07:36.130174Z"
    },
    "trusted": true
   },
   "outputs": [],
   "source": [
    "TRAIN_PATH_30VNFOODS = '/kaggle/input/vietnamese-foods/Images/Train'\n",
    "VALIDATE_PATH_30VNFOODS = '/kaggle/input/vietnamese-foods/Images/Validate'\n",
    "TEST_PATH_30VNFOODS = '/kaggle/input/vietnamese-foods/Images/Test'\n",
    "\n",
    "TRAIN_PATH_CUSTOMDATA = '/kaggle/input/custom-food-dataset/FOOD-DATASET/TRAIN'\n",
    "VALIDATE_PATH_CUSTOMDATA = '/kaggle/input/custom-food-dataset/FOOD-DATASET/VAL'\n",
    "TEST_PATH_CUSTOMDATA = '/kaggle/input/custom-food-dataset/FOOD-DATASET/TEST'"
   ]
  },
  {
   "cell_type": "code",
   "execution_count": 16,
   "metadata": {
    "execution": {
     "iopub.execute_input": "2024-12-07T09:07:36.142555Z",
     "iopub.status.busy": "2024-12-07T09:07:36.141728Z",
     "iopub.status.idle": "2024-12-07T09:07:36.157404Z",
     "shell.execute_reply": "2024-12-07T09:07:36.156685Z",
     "shell.execute_reply.started": "2024-12-07T09:07:36.142528Z"
    },
    "trusted": true
   },
   "outputs": [],
   "source": [
    "def create_dataframe(base_path):\n",
    "    data = []\n",
    "    for class_name in os.listdir(base_path):\n",
    "        class_path = os.path.join(base_path, class_name)\n",
    "        if os.path.isdir(class_path):\n",
    "            for img_name in os.listdir(class_path):\n",
    "                img_path = os.path.join(class_path, img_name)\n",
    "                if os.path.isfile(img_path):\n",
    "                    data.append([img_path, class_name])\n",
    "    return pd.DataFrame(data, columns=['filename', 'class'])"
   ]
  },
  {
   "cell_type": "code",
   "execution_count": 17,
   "metadata": {
    "execution": {
     "iopub.execute_input": "2024-12-07T09:07:36.159784Z",
     "iopub.status.busy": "2024-12-07T09:07:36.159479Z",
     "iopub.status.idle": "2024-12-07T09:07:37.417964Z",
     "shell.execute_reply": "2024-12-07T09:07:37.417030Z",
     "shell.execute_reply.started": "2024-12-07T09:07:36.159759Z"
    },
    "trusted": true
   },
   "outputs": [],
   "source": [
    "# Merge DataFrames\n",
    "df_train = pd.concat([create_dataframe(TRAIN_PATH_30VNFOODS), create_dataframe(TRAIN_PATH_CUSTOMDATA)])\n",
    "df_validate = pd.concat([create_dataframe(VALIDATE_PATH_30VNFOODS), create_dataframe(VALIDATE_PATH_CUSTOMDATA)])\n",
    "df_test = pd.concat([create_dataframe(TEST_PATH_30VNFOODS), create_dataframe(TEST_PATH_CUSTOMDATA)])\n",
    "\n",
    "# Reset indices\n",
    "df_train.reset_index(drop=True, inplace=True)\n",
    "df_validate.reset_index(drop=True, inplace=True)\n",
    "df_test.reset_index(drop=True, inplace=True)"
   ]
  },
  {
   "cell_type": "code",
   "execution_count": 18,
   "metadata": {
    "execution": {
     "iopub.execute_input": "2024-12-07T09:07:37.419877Z",
     "iopub.status.busy": "2024-12-07T09:07:37.419196Z",
     "iopub.status.idle": "2024-12-07T09:07:37.438048Z",
     "shell.execute_reply": "2024-12-07T09:07:37.437360Z",
     "shell.execute_reply.started": "2024-12-07T09:07:37.419836Z"
    },
    "trusted": true
   },
   "outputs": [],
   "source": [
    "# Get unique classes\n",
    "all_classes = pd.concat([df_train['class'], df_validate['class'], df_test['class']]).unique()\n",
    "num_labels = len(all_classes)\n",
    "id2label = {id:label for id, label in enumerate(all_classes)}\n",
    "label2id = {label:id for id, label in id2label.items()}"
   ]
  },
  {
   "cell_type": "code",
   "execution_count": 19,
   "metadata": {
    "execution": {
     "iopub.execute_input": "2024-12-07T09:07:37.439955Z",
     "iopub.status.busy": "2024-12-07T09:07:37.439299Z",
     "iopub.status.idle": "2024-12-07T09:07:47.898557Z",
     "shell.execute_reply": "2024-12-07T09:07:47.897791Z",
     "shell.execute_reply.started": "2024-12-07T09:07:37.439915Z"
    },
    "trusted": true
   },
   "outputs": [
    {
     "data": {
      "application/vnd.jupyter.widget-view+json": {
       "model_id": "0eaa5b2c56034dd1819009020a451153",
       "version_major": 2,
       "version_minor": 0
      },
      "text/plain": [
       "preprocessor_config.json:   0%|          | 0.00/160 [00:00<?, ?B/s]"
      ]
     },
     "metadata": {},
     "output_type": "display_data"
    },
    {
     "data": {
      "application/vnd.jupyter.widget-view+json": {
       "model_id": "51b2e3d0df5c4ff69a328903a0fdccff",
       "version_major": 2,
       "version_minor": 0
      },
      "text/plain": [
       "config.json:   0%|          | 0.00/69.7k [00:00<?, ?B/s]"
      ]
     },
     "metadata": {},
     "output_type": "display_data"
    },
    {
     "data": {
      "application/vnd.jupyter.widget-view+json": {
       "model_id": "617dbfb709094c5cbb2d3245c64b715c",
       "version_major": 2,
       "version_minor": 0
      },
      "text/plain": [
       "pytorch_model.bin:   0%|          | 0.00/1.22G [00:00<?, ?B/s]"
      ]
     },
     "metadata": {},
     "output_type": "display_data"
    },
    {
     "name": "stderr",
     "output_type": "stream",
     "text": [
      "Some weights of ViTForImageClassification were not initialized from the model checkpoint at google/vit-large-patch16-384 and are newly initialized because the shapes did not match:\n",
      "- classifier.weight: found shape torch.Size([1000, 1024]) in the checkpoint and torch.Size([38, 1024]) in the model instantiated\n",
      "- classifier.bias: found shape torch.Size([1000]) in the checkpoint and torch.Size([38]) in the model instantiated\n",
      "You should probably TRAIN this model on a down-stream task to be able to use it for predictions and inference.\n"
     ]
    }
   ],
   "source": [
    "model_name = \"google/vit-large-patch16-384\"\n",
    "processor = ViTImageProcessor.from_pretrained(model_name)\n",
    "model = ViTForImageClassification.from_pretrained(model_name,\n",
    "                                                  num_labels=num_labels,\n",
    "                                                  id2label=id2label,\n",
    "                                                  label2id=label2id,\n",
    "                                                  ignore_mismatched_sizes=True)"
   ]
  },
  {
   "cell_type": "code",
   "execution_count": 20,
   "metadata": {
    "execution": {
     "iopub.execute_input": "2024-12-07T09:07:47.900565Z",
     "iopub.status.busy": "2024-12-07T09:07:47.900149Z",
     "iopub.status.idle": "2024-12-07T09:07:47.907658Z",
     "shell.execute_reply": "2024-12-07T09:07:47.906817Z",
     "shell.execute_reply.started": "2024-12-07T09:07:47.900523Z"
    },
    "trusted": true
   },
   "outputs": [],
   "source": [
    "from torchvision.transforms import RandomHorizontalFlip\n",
    "\n",
    "class FoodDataset(Dataset):\n",
    "    def __init__(self, dataframe, processor, is_train=True):\n",
    "        self.dataframe = dataframe\n",
    "        self.processor = processor\n",
    "        self.is_train = is_train\n",
    "        self.random_flip = RandomHorizontalFlip(p=0.5) if is_train else None\n",
    "\n",
    "    def __len__(self):\n",
    "        return len(self.dataframe)\n",
    "\n",
    "    def __getitem__(self, idx):\n",
    "        img_path = self.dataframe.iloc[idx]['filename']\n",
    "        image = Image.open(img_path).convert('RGB')\n",
    "\n",
    "        # Apply random flip for training if enabled\n",
    "        if self.is_train and self.random_flip:\n",
    "            image = self.random_flip(image)\n",
    "\n",
    "        # Use processor for preprocessing\n",
    "        inputs = self.processor(images=image, return_tensors=\"pt\")\n",
    "        inputs = {k: v.squeeze() for k, v in inputs.items()}\n",
    "\n",
    "        label = label2id[self.dataframe.iloc[idx]['class']]\n",
    "        inputs['labels'] = torch.tensor(label)\n",
    "\n",
    "        return inputs"
   ]
  },
  {
   "cell_type": "code",
   "execution_count": 21,
   "metadata": {
    "execution": {
     "iopub.execute_input": "2024-12-07T09:07:47.908989Z",
     "iopub.status.busy": "2024-12-07T09:07:47.908733Z",
     "iopub.status.idle": "2024-12-07T09:07:51.861215Z",
     "shell.execute_reply": "2024-12-07T09:07:51.860370Z",
     "shell.execute_reply.started": "2024-12-07T09:07:47.908964Z"
    },
    "trusted": true
   },
   "outputs": [],
   "source": [
    "# Create datasets\n",
    "train_dataset = FoodDataset(df_train, processor, is_train=True)\n",
    "val_dataset = FoodDataset(df_validate, processor, is_train=False)"
   ]
  },
  {
   "cell_type": "code",
   "execution_count": 22,
   "metadata": {
    "execution": {
     "iopub.execute_input": "2024-12-07T09:07:51.862945Z",
     "iopub.status.busy": "2024-12-07T09:07:51.862577Z",
     "iopub.status.idle": "2024-12-07T09:07:51.874620Z",
     "shell.execute_reply": "2024-12-07T09:07:51.873847Z",
     "shell.execute_reply.started": "2024-12-07T09:07:51.862903Z"
    },
    "trusted": true
   },
   "outputs": [],
   "source": [
    "def compute_metrics(eval_pred):\n",
    "    logits, labels = eval_pred\n",
    "    predictions = np.argmax(logits, axis=-1)\n",
    "    accuracy = (predictions == labels).mean()\n",
    "    return {\"accuracy\": accuracy}"
   ]
  },
  {
   "cell_type": "code",
   "execution_count": 23,
   "metadata": {
    "execution": {
     "iopub.execute_input": "2024-12-07T09:07:51.875810Z",
     "iopub.status.busy": "2024-12-07T09:07:51.875539Z",
     "iopub.status.idle": "2024-12-07T09:07:52.849573Z",
     "shell.execute_reply": "2024-12-07T09:07:52.848865Z",
     "shell.execute_reply.started": "2024-12-07T09:07:51.875785Z"
    },
    "trusted": true
   },
   "outputs": [],
   "source": [
    "training_args = TrainingArguments(\n",
    "    output_dir=\"./vit-l-16-food-classifier\",\n",
    "    per_device_train_batch_size=8,\n",
    "    per_device_eval_batch_size=8,\n",
    "    num_train_epochs=3,\n",
    "    eval_strategy=\"epoch\",\n",
    "    save_strategy=\"epoch\",\n",
    "    load_best_model_at_end=True,\n",
    "    push_to_hub=False,\n",
    "    learning_rate=2e-5,\n",
    "    warmup_ratio=0.1,\n",
    "    weight_decay=0.01,\n",
    "    fp16=True,\n",
    "    report_to='none',\n",
    "    gradient_accumulation_steps=4,\n",
    ")\n",
    "\n",
    "trainer = Trainer(\n",
    "    model=model,\n",
    "    args=training_args,\n",
    "    train_dataset=train_dataset,\n",
    "    eval_dataset=val_dataset,\n",
    "    compute_metrics=compute_metrics,\n",
    ")"
   ]
  },
  {
   "cell_type": "code",
   "execution_count": 24,
   "metadata": {
    "execution": {
     "iopub.execute_input": "2024-12-07T09:07:52.850802Z",
     "iopub.status.busy": "2024-12-07T09:07:52.850505Z",
     "iopub.status.idle": "2024-12-07T13:12:51.904552Z",
     "shell.execute_reply": "2024-12-07T13:12:51.903831Z",
     "shell.execute_reply.started": "2024-12-07T09:07:52.850772Z"
    },
    "trusted": true
   },
   "outputs": [
    {
     "name": "stderr",
     "output_type": "stream",
     "text": [
      "/opt/conda/lib/python3.10/site-packages/torch/nn/parallel/parallel_apply.py:79: FutureWarning: `torch.cuda.amp.autocast(args...)` is deprecated. Please use `torch.amp.autocast('cuda', args...)` instead.\n",
      "  with torch.cuda.device(device), torch.cuda.stream(stream), autocast(enabled=autocast_enabled):\n",
      "/opt/conda/lib/python3.10/site-packages/torch/nn/parallel/_functions.py:68: UserWarning: Was asked to gather along dimension 0, but all input tensors were scalars; will instead unsqueeze and return a vector.\n",
      "  warnings.warn('Was asked to gather along dimension 0, but all '\n"
     ]
    },
    {
     "data": {
      "text/html": [
       "\n",
       "    <div>\n",
       "      \n",
       "      <progress value='879' max='879' style='width:300px; height:20px; vertical-align: middle;'></progress>\n",
       "      [879/879 4:04:43, Epoch 3/3]\n",
       "    </div>\n",
       "    <table border=\"1\" class=\"dataframe\">\n",
       "  <thead>\n",
       " <tr style=\"text-align: left;\">\n",
       "      <th>Epoch</th>\n",
       "      <th>Training Loss</th>\n",
       "      <th>Validation Loss</th>\n",
       "      <th>Accuracy</th>\n",
       "    </tr>\n",
       "  </thead>\n",
       "  <tbody>\n",
       "    <tr>\n",
       "      <td>1</td>\n",
       "      <td>No log</td>\n",
       "      <td>0.428266</td>\n",
       "      <td>0.893362</td>\n",
       "    </tr>\n",
       "    <tr>\n",
       "      <td>2</td>\n",
       "      <td>0.798200</td>\n",
       "      <td>0.344351</td>\n",
       "      <td>0.908596</td>\n",
       "    </tr>\n",
       "    <tr>\n",
       "      <td>3</td>\n",
       "      <td>0.798200</td>\n",
       "      <td>0.319963</td>\n",
       "      <td>0.915851</td>\n",
       "    </tr>\n",
       "  </tbody>\n",
       "</table><p>"
      ],
      "text/plain": [
       "<IPython.core.display.HTML object>"
      ]
     },
     "metadata": {},
     "output_type": "display_data"
    },
    {
     "name": "stderr",
     "output_type": "stream",
     "text": [
      "/opt/conda/lib/python3.10/site-packages/PIL/Image.py:1054: UserWarning: Palette images with Transparency expressed in bytes should be converted to RGBA images\n",
      "  warnings.warn(\n",
      "/opt/conda/lib/python3.10/site-packages/torch/nn/parallel/parallel_apply.py:79: FutureWarning: `torch.cuda.amp.autocast(args...)` is deprecated. Please use `torch.amp.autocast('cuda', args...)` instead.\n",
      "  with torch.cuda.device(device), torch.cuda.stream(stream), autocast(enabled=autocast_enabled):\n",
      "/opt/conda/lib/python3.10/site-packages/torch/nn/parallel/_functions.py:68: UserWarning: Was asked to gather along dimension 0, but all input tensors were scalars; will instead unsqueeze and return a vector.\n",
      "  warnings.warn('Was asked to gather along dimension 0, but all '\n",
      "/opt/conda/lib/python3.10/site-packages/PIL/Image.py:1054: UserWarning: Palette images with Transparency expressed in bytes should be converted to RGBA images\n",
      "  warnings.warn(\n",
      "/opt/conda/lib/python3.10/site-packages/torch/nn/parallel/parallel_apply.py:79: FutureWarning: `torch.cuda.amp.autocast(args...)` is deprecated. Please use `torch.amp.autocast('cuda', args...)` instead.\n",
      "  with torch.cuda.device(device), torch.cuda.stream(stream), autocast(enabled=autocast_enabled):\n",
      "/opt/conda/lib/python3.10/site-packages/torch/nn/parallel/_functions.py:68: UserWarning: Was asked to gather along dimension 0, but all input tensors were scalars; will instead unsqueeze and return a vector.\n",
      "  warnings.warn('Was asked to gather along dimension 0, but all '\n",
      "/opt/conda/lib/python3.10/site-packages/PIL/Image.py:1054: UserWarning: Palette images with Transparency expressed in bytes should be converted to RGBA images\n",
      "  warnings.warn(\n",
      "/opt/conda/lib/python3.10/site-packages/torch/nn/parallel/parallel_apply.py:79: FutureWarning: `torch.cuda.amp.autocast(args...)` is deprecated. Please use `torch.amp.autocast('cuda', args...)` instead.\n",
      "  with torch.cuda.device(device), torch.cuda.stream(stream), autocast(enabled=autocast_enabled):\n",
      "/opt/conda/lib/python3.10/site-packages/torch/nn/parallel/_functions.py:68: UserWarning: Was asked to gather along dimension 0, but all input tensors were scalars; will instead unsqueeze and return a vector.\n",
      "  warnings.warn('Was asked to gather along dimension 0, but all '\n"
     ]
    },
    {
     "data": {
      "text/plain": [
       "TrainOutput(global_step=879, training_loss=0.49830239461957393, metrics={'train_runtime': 14698.733, 'train_samples_per_second': 3.827, 'train_steps_per_second': 0.06, 'total_flos': 4.534902001025306e+19, 'train_loss': 0.49830239461957393, 'epoch': 3.0})"
      ]
     },
     "execution_count": 24,
     "metadata": {},
     "output_type": "execute_result"
    }
   ],
   "source": [
    "trainer.train()"
   ]
  },
  {
   "cell_type": "code",
   "execution_count": 25,
   "metadata": {
    "execution": {
     "iopub.execute_input": "2024-12-07T13:12:51.905900Z",
     "iopub.status.busy": "2024-12-07T13:12:51.905562Z",
     "iopub.status.idle": "2024-12-07T13:13:09.691736Z",
     "shell.execute_reply": "2024-12-07T13:13:09.690724Z",
     "shell.execute_reply.started": "2024-12-07T13:12:51.905871Z"
    },
    "jupyter": {
     "source_hidden": true
    },
    "trusted": true
   },
   "outputs": [
    {
     "name": "stderr",
     "output_type": "stream",
     "text": [
      "/opt/conda/lib/python3.10/pty.py:89: RuntimeWarning: os.fork() was called. os.fork() is incompatible with multithreaded code, and JAX is multithreaded, so this will likely lead to a deadlock.\n",
      "  pid, fd = os.forkpty()\n"
     ]
    },
    {
     "name": "stdout",
     "output_type": "stream",
     "text": [
      "Collecting evaluate\n",
      "  Downloading evaluate-0.4.3-py3-none-any.whl.metadata (9.2 kB)\n",
      "Requirement already satisfied: datasets>=2.0.0 in /opt/conda/lib/python3.10/site-packages (from evaluate) (3.1.0)\n",
      "Requirement already satisfied: numpy>=1.17 in /opt/conda/lib/python3.10/site-packages (from evaluate) (1.26.4)\n",
      "Requirement already satisfied: dill in /opt/conda/lib/python3.10/site-packages (from evaluate) (0.3.8)\n",
      "Requirement already satisfied: pandas in /opt/conda/lib/python3.10/site-packages (from evaluate) (2.2.3)\n",
      "Requirement already satisfied: requests>=2.19.0 in /opt/conda/lib/python3.10/site-packages (from evaluate) (2.32.3)\n",
      "Requirement already satisfied: tqdm>=4.62.1 in /opt/conda/lib/python3.10/site-packages (from evaluate) (4.66.4)\n",
      "Requirement already satisfied: xxhash in /opt/conda/lib/python3.10/site-packages (from evaluate) (3.4.1)\n",
      "Requirement already satisfied: multiprocess in /opt/conda/lib/python3.10/site-packages (from evaluate) (0.70.16)\n",
      "Requirement already satisfied: fsspec>=2021.05.0 in /opt/conda/lib/python3.10/site-packages (from fsspec[http]>=2021.05.0->evaluate) (2024.6.0)\n",
      "Requirement already satisfied: huggingface-hub>=0.7.0 in /opt/conda/lib/python3.10/site-packages (from evaluate) (0.26.2)\n",
      "Requirement already satisfied: packaging in /opt/conda/lib/python3.10/site-packages (from evaluate) (21.3)\n",
      "Requirement already satisfied: filelock in /opt/conda/lib/python3.10/site-packages (from datasets>=2.0.0->evaluate) (3.15.1)\n",
      "Requirement already satisfied: pyarrow>=15.0.0 in /opt/conda/lib/python3.10/site-packages (from datasets>=2.0.0->evaluate) (17.0.0)\n",
      "Requirement already satisfied: aiohttp in /opt/conda/lib/python3.10/site-packages (from datasets>=2.0.0->evaluate) (3.9.5)\n",
      "Requirement already satisfied: pyyaml>=5.1 in /opt/conda/lib/python3.10/site-packages (from datasets>=2.0.0->evaluate) (6.0.2)\n",
      "Requirement already satisfied: typing-extensions>=3.7.4.3 in /opt/conda/lib/python3.10/site-packages (from huggingface-hub>=0.7.0->evaluate) (4.12.2)\n",
      "Requirement already satisfied: pyparsing!=3.0.5,>=2.0.2 in /opt/conda/lib/python3.10/site-packages (from packaging->evaluate) (3.1.2)\n",
      "Requirement already satisfied: charset-normalizer<4,>=2 in /opt/conda/lib/python3.10/site-packages (from requests>=2.19.0->evaluate) (3.3.2)\n",
      "Requirement already satisfied: idna<4,>=2.5 in /opt/conda/lib/python3.10/site-packages (from requests>=2.19.0->evaluate) (3.7)\n",
      "Requirement already satisfied: urllib3<3,>=1.21.1 in /opt/conda/lib/python3.10/site-packages (from requests>=2.19.0->evaluate) (1.26.18)\n",
      "Requirement already satisfied: certifi>=2017.4.17 in /opt/conda/lib/python3.10/site-packages (from requests>=2.19.0->evaluate) (2024.6.2)\n",
      "Requirement already satisfied: python-dateutil>=2.8.2 in /opt/conda/lib/python3.10/site-packages (from pandas->evaluate) (2.9.0.post0)\n",
      "Requirement already satisfied: pytz>=2020.1 in /opt/conda/lib/python3.10/site-packages (from pandas->evaluate) (2024.1)\n",
      "Requirement already satisfied: tzdata>=2022.7 in /opt/conda/lib/python3.10/site-packages (from pandas->evaluate) (2024.1)\n",
      "Requirement already satisfied: aiosignal>=1.1.2 in /opt/conda/lib/python3.10/site-packages (from aiohttp->datasets>=2.0.0->evaluate) (1.3.1)\n",
      "Requirement already satisfied: attrs>=17.3.0 in /opt/conda/lib/python3.10/site-packages (from aiohttp->datasets>=2.0.0->evaluate) (23.2.0)\n",
      "Requirement already satisfied: frozenlist>=1.1.1 in /opt/conda/lib/python3.10/site-packages (from aiohttp->datasets>=2.0.0->evaluate) (1.4.1)\n",
      "Requirement already satisfied: multidict<7.0,>=4.5 in /opt/conda/lib/python3.10/site-packages (from aiohttp->datasets>=2.0.0->evaluate) (6.0.5)\n",
      "Requirement already satisfied: yarl<2.0,>=1.0 in /opt/conda/lib/python3.10/site-packages (from aiohttp->datasets>=2.0.0->evaluate) (1.9.4)\n",
      "Requirement already satisfied: async-timeout<5.0,>=4.0 in /opt/conda/lib/python3.10/site-packages (from aiohttp->datasets>=2.0.0->evaluate) (4.0.3)\n",
      "Requirement already satisfied: six>=1.5 in /opt/conda/lib/python3.10/site-packages (from python-dateutil>=2.8.2->pandas->evaluate) (1.16.0)\n",
      "Downloading evaluate-0.4.3-py3-none-any.whl (84 kB)\n",
      "\u001b[2K   \u001b[90m━━━━━━━━━━━━━━━━━━━━━━━━━━━━━━━━━━━━━━━━\u001b[0m \u001b[32m84.0/84.0 kB\u001b[0m \u001b[31m2.5 MB/s\u001b[0m eta \u001b[36m0:00:00\u001b[0m\n",
      "\u001b[?25hInstalling collected packages: evaluate\n",
      "Successfully installed evaluate-0.4.3\n"
     ]
    }
   ],
   "source": [
    "!pip install evaluate"
   ]
  },
  {
   "cell_type": "code",
   "execution_count": 26,
   "metadata": {
    "execution": {
     "iopub.execute_input": "2024-12-07T13:13:09.697068Z",
     "iopub.status.busy": "2024-12-07T13:13:09.696732Z",
     "iopub.status.idle": "2024-12-07T13:13:11.373220Z",
     "shell.execute_reply": "2024-12-07T13:13:11.372570Z",
     "shell.execute_reply.started": "2024-12-07T13:13:09.697036Z"
    },
    "trusted": true
   },
   "outputs": [
    {
     "data": {
      "application/vnd.jupyter.widget-view+json": {
       "model_id": "af143daec11d436c8b3f9786ca17a7e5",
       "version_major": 2,
       "version_minor": 0
      },
      "text/plain": [
       "Downloading builder script:   0%|          | 0.00/4.20k [00:00<?, ?B/s]"
      ]
     },
     "metadata": {},
     "output_type": "display_data"
    },
    {
     "data": {
      "application/vnd.jupyter.widget-view+json": {
       "model_id": "5b8f5c511d9243d7bf7808b53d2519d8",
       "version_major": 2,
       "version_minor": 0
      },
      "text/plain": [
       "Downloading builder script:   0%|          | 0.00/6.77k [00:00<?, ?B/s]"
      ]
     },
     "metadata": {},
     "output_type": "display_data"
    },
    {
     "data": {
      "application/vnd.jupyter.widget-view+json": {
       "model_id": "139bec8d790d4d8fb498c3cb1f94d3eb",
       "version_major": 2,
       "version_minor": 0
      },
      "text/plain": [
       "Downloading builder script:   0%|          | 0.00/7.55k [00:00<?, ?B/s]"
      ]
     },
     "metadata": {},
     "output_type": "display_data"
    },
    {
     "data": {
      "application/vnd.jupyter.widget-view+json": {
       "model_id": "a3e5f9d752554d2a82efbb8c1ce78f7b",
       "version_major": 2,
       "version_minor": 0
      },
      "text/plain": [
       "Downloading builder script:   0%|          | 0.00/7.36k [00:00<?, ?B/s]"
      ]
     },
     "metadata": {},
     "output_type": "display_data"
    }
   ],
   "source": [
    "import evaluate\n",
    "\n",
    "metric = evaluate.load(\"accuracy\")\n",
    "f1_metric = evaluate.load(\"f1\")\n",
    "precision_metric = evaluate.load(\"precision\")\n",
    "recall_metric = evaluate.load(\"recall\")\n",
    "\n",
    "def compute_metrics(eval_pred):\n",
    "    logits, labels = eval_pred\n",
    "    predictions = np.argmax(logits, axis=-1)\n",
    "    \n",
    "    accuracy = metric.compute(predictions=predictions, references=labels)\n",
    "    f1 = f1_metric.compute(predictions=predictions, references=labels, average=\"weighted\")\n",
    "    precision = precision_metric.compute(predictions=predictions, references=labels, average=\"weighted\")\n",
    "    recall = recall_metric.compute(predictions=predictions, references=labels, average=\"weighted\")\n",
    "    \n",
    "    return {\n",
    "        \"accuracy\": accuracy[\"accuracy\"],\n",
    "        \"f1\": f1[\"f1\"],\n",
    "        \"precision\": precision[\"precision\"],\n",
    "        \"recall\": recall[\"recall\"]\n",
    "    }"
   ]
  },
  {
   "cell_type": "code",
   "execution_count": 27,
   "metadata": {
    "execution": {
     "iopub.execute_input": "2024-12-07T13:13:11.374563Z",
     "iopub.status.busy": "2024-12-07T13:13:11.374272Z",
     "iopub.status.idle": "2024-12-07T13:22:07.383139Z",
     "shell.execute_reply": "2024-12-07T13:22:07.382349Z",
     "shell.execute_reply.started": "2024-12-07T13:13:11.374535Z"
    },
    "trusted": true
   },
   "outputs": [
    {
     "name": "stderr",
     "output_type": "stream",
     "text": [
      "/opt/conda/lib/python3.10/site-packages/torch/nn/parallel/parallel_apply.py:79: FutureWarning: `torch.cuda.amp.autocast(args...)` is deprecated. Please use `torch.amp.autocast('cuda', args...)` instead.\n",
      "  with torch.cuda.device(device), torch.cuda.stream(stream), autocast(enabled=autocast_enabled):\n",
      "/opt/conda/lib/python3.10/site-packages/torch/nn/parallel/_functions.py:68: UserWarning: Was asked to gather along dimension 0, but all input tensors were scalars; will instead unsqueeze and return a vector.\n",
      "  warnings.warn('Was asked to gather along dimension 0, but all '\n"
     ]
    },
    {
     "data": {
      "text/html": [],
      "text/plain": [
       "<IPython.core.display.HTML object>"
      ]
     },
     "metadata": {},
     "output_type": "display_data"
    },
    {
     "name": "stdout",
     "output_type": "stream",
     "text": [
      "Evaluation Results:\n",
      "eval_loss: 0.3199634552001953\n",
      "eval_accuracy: 0.9158505622052956\n",
      "eval_runtime: 268.3379\n",
      "eval_samples_per_second: 10.274\n",
      "eval_steps_per_second: 0.645\n",
      "epoch: 3.0\n"
     ]
    }
   ],
   "source": [
    "# Evaluate the model\n",
    "results = trainer.evaluate()\n",
    "print(\"Evaluation Results:\")\n",
    "for key, value in results.items():\n",
    "    print(f\"{key}: {value}\")\n",
    "\n",
    "# Get predictions on the validation set\n",
    "predictions = trainer.predict(val_dataset)\n",
    "y_pred = np.argmax(predictions.predictions, axis=1)\n",
    "y_true = predictions.label_ids"
   ]
  },
  {
   "cell_type": "code",
   "execution_count": 28,
   "metadata": {
    "execution": {
     "iopub.execute_input": "2024-12-07T13:22:07.384479Z",
     "iopub.status.busy": "2024-12-07T13:22:07.384191Z",
     "iopub.status.idle": "2024-12-07T13:22:07.610019Z",
     "shell.execute_reply": "2024-12-07T13:22:07.609205Z",
     "shell.execute_reply.started": "2024-12-07T13:22:07.384445Z"
    },
    "trusted": true
   },
   "outputs": [],
   "source": [
    "import matplotlib.pyplot as plt\n",
    "from sklearn.metrics import classification_report, confusion_matrix\n",
    "import seaborn as sns"
   ]
  },
  {
   "cell_type": "code",
   "execution_count": 29,
   "metadata": {
    "execution": {
     "iopub.execute_input": "2024-12-07T13:22:07.611478Z",
     "iopub.status.busy": "2024-12-07T13:22:07.611013Z",
     "iopub.status.idle": "2024-12-07T13:22:10.381182Z",
     "shell.execute_reply": "2024-12-07T13:22:10.380236Z",
     "shell.execute_reply.started": "2024-12-07T13:22:07.611450Z"
    },
    "trusted": true
   },
   "outputs": [
    {
     "name": "stdout",
     "output_type": "stream",
     "text": [
      "\n",
      "Classification Report:\n",
      "                  precision    recall  f1-score   support\n",
      "\n",
      "       Banh cuon       0.92      0.94      0.93       114\n",
      "        Mi quang       0.92      0.98      0.95        89\n",
      "Banh trang nuong       0.94      0.94      0.94        80\n",
      "        Goi cuon       0.92      0.94      0.93        85\n",
      "        Banh gio       0.88      0.91      0.89        64\n",
      "         Bun mam       0.95      0.90      0.92        77\n",
      "       Canh chua       0.88      0.96      0.92        83\n",
      "        Nem chua       0.90      0.85      0.88        54\n",
      "        Bun rieu       0.94      0.83      0.88       115\n",
      "        Banh duc       0.80      0.80      0.80        66\n",
      "        Banh pia       0.98      0.98      0.98        45\n",
      "       Banh canh       0.83      0.82      0.83        97\n",
      "       Banh khot       0.90      0.95      0.92        84\n",
      "    Banh bot loc       0.92      0.84      0.88        73\n",
      "        Banh can       0.96      0.92      0.94        75\n",
      "  Bun thit nuong       0.92      0.95      0.93        75\n",
      "      Banh chung       0.91      0.96      0.93        50\n",
      " Bun dau mam tom       1.00      1.00      1.00        92\n",
      "        Banh beo       0.91      0.92      0.92        65\n",
      "        Banh tet       0.94      0.93      0.93        68\n",
      "         Cao lau       0.97      0.94      0.95        62\n",
      "       Chao long       0.95      0.96      0.96       107\n",
      "       Ca kho to       0.96      0.99      0.97        67\n",
      "      Bun bo Hue       0.87      0.90      0.88       153\n",
      "             Pho       0.84      0.84      0.84        81\n",
      "         Xoi xeo       0.96      0.92      0.94        52\n",
      "         Banh mi       0.96      0.98      0.97       133\n",
      "        Banh xeo       0.95      0.94      0.94       117\n",
      "         Com tam       0.96      1.00      0.98        94\n",
      "         Hu tieu       0.88      0.86      0.87        98\n",
      "      Bánh cu đơ       0.86      0.88      0.87        34\n",
      "       Nem nướng       0.81      0.94      0.87        31\n",
      "     Bánh mì cay       1.00      0.92      0.96        26\n",
      "        Cơm cháy       0.94      0.88      0.91        34\n",
      "          Bò bía       0.97      0.82      0.89        34\n",
      "   Bánh đậu xanh       0.97      1.00      0.98        32\n",
      "     Bánh đa cua       0.76      0.88      0.81        25\n",
      "          Bún cá       0.76      0.50      0.60        26\n",
      "\n",
      "        accuracy                           0.92      2757\n",
      "       macro avg       0.91      0.91      0.91      2757\n",
      "    weighted avg       0.92      0.92      0.92      2757\n",
      "\n",
      "Confusion matrix saved as 'confusion_matrix.png'\n",
      "\n",
      "Confusion Matrix:\n",
      "[[107   0   0 ...   0   0   0]\n",
      " [  1  87   0 ...   0   0   0]\n",
      " [  0   0  75 ...   0   0   0]\n",
      " ...\n",
      " [  0   0   0 ...  32   0   0]\n",
      " [  0   1   0 ...   0  22   0]\n",
      " [  1   1   0 ...   0   2  13]]\n"
     ]
    }
   ],
   "source": [
    "# Generate classification report\n",
    "class_names = list(label2id.keys())\n",
    "report = classification_report(y_true, y_pred, target_names=class_names)\n",
    "print(\"\\nClassification Report:\")\n",
    "print(report)\n",
    "\n",
    "# Compute confusion matrix\n",
    "cm = confusion_matrix(y_true, y_pred)\n",
    "\n",
    "# Plot confusion matrix\n",
    "plt.figure(figsize=(10, 8))\n",
    "sns.heatmap(cm, annot=True, fmt='d', cmap='Blues')\n",
    "plt.xlabel('Predicted')\n",
    "plt.ylabel('True')\n",
    "plt.title('Confusion Matrix')\n",
    "\n",
    "# Use the actual class names for tick labels\n",
    "plt.xticks(np.arange(len(class_names)) + 0.5, class_names, rotation=45, ha='right')\n",
    "plt.yticks(np.arange(len(class_names)) + 0.5, class_names, rotation=0)\n",
    "\n",
    "plt.tight_layout()\n",
    "plt.savefig('confusion_matrix.png')\n",
    "plt.close()\n",
    "\n",
    "print(\"Confusion matrix saved as 'confusion_matrix.png'\")\n",
    "\n",
    "# If you want to print the confusion matrix values\n",
    "print(\"\\nConfusion Matrix:\")\n",
    "print(cm)"
   ]
  }
 ],
 "metadata": {
  "kaggle": {
   "accelerator": "nvidiaTeslaT4",
   "dataSources": [
    {
     "datasetId": 1050510,
     "sourceId": 2399712,
     "sourceType": "datasetVersion"
    },
    {
     "datasetId": 5468620,
     "sourceId": 10125143,
     "sourceType": "datasetVersion"
    }
   ],
   "dockerImageVersionId": 30805,
   "isGpuEnabled": true,
   "isInternetEnabled": true,
   "language": "python",
   "sourceType": "notebook"
  },
  "kernelspec": {
   "display_name": "Python 3",
   "language": "python",
   "name": "python3"
  },
  "language_info": {
   "codemirror_mode": {
    "name": "ipython",
    "version": 3
   },
   "file_extension": ".py",
   "mimetype": "text/x-python",
   "name": "python",
   "nbconvert_exporter": "python",
   "pygments_lexer": "ipython3",
   "version": "3.10.14"
  }
 },
 "nbformat": 4,
 "nbformat_minor": 4
}
