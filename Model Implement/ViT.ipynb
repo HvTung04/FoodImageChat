{
 "cells": [
  {
   "cell_type": "code",
   "execution_count": 2,
   "metadata": {
    "_cell_guid": "b1076dfc-b9ad-4769-8c92-a6c4dae69d19",
    "_uuid": "8f2839f25d086af736a60e9eeb907d3b93b6e0e5",
    "execution": {
     "iopub.execute_input": "2024-12-14T09:19:20.649766Z",
     "iopub.status.busy": "2024-12-14T09:19:20.649478Z",
     "iopub.status.idle": "2024-12-14T09:19:25.106076Z",
     "shell.execute_reply": "2024-12-14T09:19:25.105369Z",
     "shell.execute_reply.started": "2024-12-14T09:19:20.649740Z"
    },
    "trusted": true
   },
   "outputs": [],
   "source": [
    "import numpy as np\n",
    "\n",
    "from tqdm import tqdm\n",
    "\n",
    "import torch\n",
    "import torch.nn as nn\n",
    "from torch.optim import Adam\n",
    "from torch.nn import CrossEntropyLoss\n",
    "from torch.utils.data import DataLoader, Dataset\n",
    "from torchvision import datasets, transforms\n",
    "\n",
    "from torchvision.transforms import ToTensor\n",
    "from PIL import Image, ImageDraw\n",
    "from xml.etree import ElementTree as ET\n",
    "import os"
   ]
  },
  {
   "cell_type": "code",
   "execution_count": 1,
   "metadata": {
    "execution": {
     "iopub.execute_input": "2024-12-14T09:19:17.894032Z",
     "iopub.status.busy": "2024-12-14T09:19:17.893524Z",
     "iopub.status.idle": "2024-12-14T09:19:20.648078Z",
     "shell.execute_reply": "2024-12-14T09:19:20.647200Z",
     "shell.execute_reply.started": "2024-12-14T09:19:17.894003Z"
    },
    "trusted": true
   },
   "outputs": [
    {
     "name": "stdout",
     "output_type": "stream",
     "text": [
      "Path to dataset files: /kaggle/input/vietnamesefoods\n"
     ]
    }
   ],
   "source": [
    "import kagglehub\n",
    "\n",
    "# Download latest version\n",
    "path = kagglehub.dataset_download(\"v38nguynvit/vietnamesefoods\")\n",
    "\n",
    "print(\"Path to dataset files:\", path)"
   ]
  },
  {
   "cell_type": "code",
   "execution_count": 3,
   "metadata": {
    "execution": {
     "iopub.execute_input": "2024-12-14T09:19:55.449470Z",
     "iopub.status.busy": "2024-12-14T09:19:55.448667Z",
     "iopub.status.idle": "2024-12-14T09:19:55.453451Z",
     "shell.execute_reply": "2024-12-14T09:19:55.452642Z",
     "shell.execute_reply.started": "2024-12-14T09:19:55.449437Z"
    },
    "trusted": true
   },
   "outputs": [],
   "source": [
    "data_dir = os.path.join(path, \"FOOD-DATASET\")\n",
    "\n",
    "train_data_dir = os.path.join(data_dir, \"TRAIN\")\n",
    "val_data_dir = os.path.join(data_dir, \"VAL\")\n",
    "test_data_dir = os.path.join(data_dir, \"TEST\")"
   ]
  },
  {
   "cell_type": "code",
   "execution_count": 4,
   "metadata": {
    "execution": {
     "iopub.execute_input": "2024-12-14T09:19:57.012515Z",
     "iopub.status.busy": "2024-12-14T09:19:57.012092Z",
     "iopub.status.idle": "2024-12-14T09:19:57.022729Z",
     "shell.execute_reply": "2024-12-14T09:19:57.021826Z",
     "shell.execute_reply.started": "2024-12-14T09:19:57.012473Z"
    },
    "trusted": true
   },
   "outputs": [],
   "source": [
    "class Dataset(Dataset):\n",
    "    def __init__(self, data_dir, transform):\n",
    "        self.data_dir = data_dir\n",
    "        self.samples = self.load_data(data_dir)\n",
    "        self.transform = transform\n",
    "\n",
    "        self.labels = sorted(set(sample['label'] for sample in self.samples))\n",
    "        self.label_to_idx = {label: idx for idx, label in enumerate(self.labels)}\n",
    "\n",
    "    def __len__(self):\n",
    "        return len(self.samples)\n",
    "    \n",
    "    def __getitem__(self, index):\n",
    "        # get sample at indes\n",
    "        sample = self.samples[index]\n",
    "\n",
    "        # set up image's path\n",
    "        filename = sample['filename']\n",
    "        image_path = os.path.join(self.data_dir, filename)\n",
    "\n",
    "        # open image\n",
    "        image = Image.open(image_path)\n",
    "        \n",
    "        # image = np.array(image)\n",
    "        transform_image = self.transform(image)\n",
    "\n",
    "        label = self.label_to_idx[sample['label']]\n",
    "        label = torch.tensor(label, dtype=torch.long)\n",
    "        \n",
    "        return transform_image, label\n",
    "\n",
    "    def load_data(self, data_dir):\n",
    "        data = []\n",
    "        \n",
    "        for label in os.listdir(data_dir):\n",
    "            label_path = os.path.join(data_dir, label)\n",
    "            if os.path.isdir(label_path):\n",
    "                for img_file in os.listdir(label_path):\n",
    "                    img_path = os.path.join(label_path, img_file)\n",
    "                    data.append({'filename': img_path, 'label': label})\n",
    "\n",
    "        return data"
   ]
  },
  {
   "cell_type": "code",
   "execution_count": 27,
   "metadata": {
    "execution": {
     "iopub.execute_input": "2024-12-14T09:22:31.788870Z",
     "iopub.status.busy": "2024-12-14T09:22:31.788530Z",
     "iopub.status.idle": "2024-12-14T09:22:31.794618Z",
     "shell.execute_reply": "2024-12-14T09:22:31.793782Z",
     "shell.execute_reply.started": "2024-12-14T09:22:31.788840Z"
    },
    "trusted": true
   },
   "outputs": [],
   "source": [
    "transform = transforms.Compose([\n",
    "    transforms.Lambda(lambda img: img.convert('RGB')),\n",
    "    transforms.Resize((256, 256)), # Resize ảnh về 256x256\n",
    "    transforms.RandomRotation(30), # Xoay ngẫu nhiên ảnh từ -30 đến 30 độ\n",
    "    transforms.RandomAffine(degrees=0, translate=(0.05, 0.05)), # Dịch ngẫu nhiên ảnh từ -5 đến 5 pixel theo cả hai hướng (x, y)\n",
    "    transforms.ToTensor(), # Chuyển đổi ảnh thành tensor\n",
    "    transforms.Normalize(mean=[0.485, 0.456, 0.406], std=[0.229, 0.224, 0.225]) # Chuẩn hóa ảnh theo mean và std mặc định của ImageNet\n",
    "])"
   ]
  },
  {
   "cell_type": "code",
   "execution_count": 28,
   "metadata": {
    "execution": {
     "iopub.execute_input": "2024-12-14T09:22:31.924265Z",
     "iopub.status.busy": "2024-12-14T09:22:31.923333Z",
     "iopub.status.idle": "2024-12-14T09:22:32.070177Z",
     "shell.execute_reply": "2024-12-14T09:22:32.069252Z",
     "shell.execute_reply.started": "2024-12-14T09:22:31.924229Z"
    },
    "trusted": true
   },
   "outputs": [],
   "source": [
    "train_dataset = Dataset(train_data_dir, transform)\n",
    "val_dataset = Dataset(val_data_dir, transform) \n",
    "test_dataset = Dataset(test_data_dir, transform)"
   ]
  },
  {
   "cell_type": "code",
   "execution_count": 29,
   "metadata": {
    "execution": {
     "iopub.execute_input": "2024-12-14T09:22:32.072535Z",
     "iopub.status.busy": "2024-12-14T09:22:32.071831Z",
     "iopub.status.idle": "2024-12-14T09:22:32.077765Z",
     "shell.execute_reply": "2024-12-14T09:22:32.076969Z",
     "shell.execute_reply.started": "2024-12-14T09:22:32.072486Z"
    },
    "trusted": true
   },
   "outputs": [
    {
     "data": {
      "text/plain": [
       "(18751, 2757, 5169)"
      ]
     },
     "execution_count": 29,
     "metadata": {},
     "output_type": "execute_result"
    }
   ],
   "source": [
    "len(train_dataset), len(val_dataset), len(test_dataset)"
   ]
  },
  {
   "cell_type": "code",
   "execution_count": 30,
   "metadata": {
    "execution": {
     "iopub.execute_input": "2024-12-14T09:22:32.306645Z",
     "iopub.status.busy": "2024-12-14T09:22:32.306019Z",
     "iopub.status.idle": "2024-12-14T09:22:32.327667Z",
     "shell.execute_reply": "2024-12-14T09:22:32.326856Z",
     "shell.execute_reply.started": "2024-12-14T09:22:32.306611Z"
    },
    "trusted": true
   },
   "outputs": [
    {
     "data": {
      "text/plain": [
       "(torch.Size([3, 256, 256]), tensor(5))"
      ]
     },
     "execution_count": 30,
     "metadata": {},
     "output_type": "execute_result"
    }
   ],
   "source": [
    "img, label = train_dataset[10]\n",
    "img.shape, label"
   ]
  },
  {
   "cell_type": "code",
   "execution_count": 31,
   "metadata": {
    "execution": {
     "iopub.execute_input": "2024-12-14T09:22:32.437716Z",
     "iopub.status.busy": "2024-12-14T09:22:32.436943Z",
     "iopub.status.idle": "2024-12-14T09:22:32.442814Z",
     "shell.execute_reply": "2024-12-14T09:22:32.441931Z",
     "shell.execute_reply.started": "2024-12-14T09:22:32.437685Z"
    },
    "trusted": true
   },
   "outputs": [
    {
     "data": {
      "text/plain": [
       "38"
      ]
     },
     "execution_count": 31,
     "metadata": {},
     "output_type": "execute_result"
    }
   ],
   "source": [
    "len(test_dataset.labels)"
   ]
  },
  {
   "cell_type": "code",
   "execution_count": 32,
   "metadata": {
    "execution": {
     "iopub.execute_input": "2024-12-14T09:22:32.556725Z",
     "iopub.status.busy": "2024-12-14T09:22:32.556134Z",
     "iopub.status.idle": "2024-12-14T09:22:32.561697Z",
     "shell.execute_reply": "2024-12-14T09:22:32.560875Z",
     "shell.execute_reply.started": "2024-12-14T09:22:32.556697Z"
    },
    "trusted": true
   },
   "outputs": [],
   "source": [
    "import torch\n",
    "import torch.nn as nn\n",
    "\n",
    "class PatchEmbedding(nn.Module):\n",
    "    def __init__(self, img_size, patch_size, in_channels, embed_dim):\n",
    "        super().__init__()\n",
    "        self.patch_size = patch_size\n",
    "        self.proj = nn.Conv2d(in_channels, embed_dim, kernel_size=patch_size, stride=patch_size)\n",
    "\n",
    "    def forward(self, x):\n",
    "        B, C, H, W = x.shape\n",
    "        x = self.proj(x).flatten(2).transpose(1, 2)\n",
    "        return x"
   ]
  },
  {
   "cell_type": "code",
   "execution_count": 33,
   "metadata": {
    "execution": {
     "iopub.execute_input": "2024-12-14T09:22:32.633585Z",
     "iopub.status.busy": "2024-12-14T09:22:32.633321Z",
     "iopub.status.idle": "2024-12-14T09:22:32.638594Z",
     "shell.execute_reply": "2024-12-14T09:22:32.637709Z",
     "shell.execute_reply.started": "2024-12-14T09:22:32.633562Z"
    },
    "trusted": true
   },
   "outputs": [],
   "source": [
    "def get_positional_embeddings(sequence_length, d):\n",
    "    result = torch.ones(sequence_length, d)\n",
    "    for i in range(sequence_length):\n",
    "        for j in range(d):\n",
    "            result[i][j] = np.sin(i / (10000 ** (j / d))) if j % 2 == 0 else np.cos(i / (10000 ** ((j - 1) / d)))\n",
    "    return result"
   ]
  },
  {
   "cell_type": "code",
   "execution_count": 34,
   "metadata": {
    "execution": {
     "iopub.execute_input": "2024-12-14T09:22:32.766179Z",
     "iopub.status.busy": "2024-12-14T09:22:32.765840Z",
     "iopub.status.idle": "2024-12-14T09:22:32.771118Z",
     "shell.execute_reply": "2024-12-14T09:22:32.770254Z",
     "shell.execute_reply.started": "2024-12-14T09:22:32.766151Z"
    },
    "trusted": true
   },
   "outputs": [],
   "source": [
    "# 2. Adding Positional Embeddings\n",
    "class PositionalEncoding(nn.Module):\n",
    "    def __init__(self, embed_dim, seq_len):\n",
    "        super().__init__()\n",
    "        self.pos_embed = nn.Parameter(torch.randn(1, seq_len + 1, embed_dim))  # Adjusted for [CLS] token\n",
    "        # self.register_buffer('positional_embeddings', get_positional_embeddings(seq_len + 1, embed_dim), persistent=False)\n",
    "\n",
    "    def forward(self, x):\n",
    "        return x + self.pos_embed"
   ]
  },
  {
   "cell_type": "code",
   "execution_count": 35,
   "metadata": {
    "execution": {
     "iopub.execute_input": "2024-12-14T09:22:32.899912Z",
     "iopub.status.busy": "2024-12-14T09:22:32.899560Z",
     "iopub.status.idle": "2024-12-14T09:22:32.905307Z",
     "shell.execute_reply": "2024-12-14T09:22:32.904370Z",
     "shell.execute_reply.started": "2024-12-14T09:22:32.899881Z"
    },
    "trusted": true
   },
   "outputs": [],
   "source": [
    "class MultiHeadAttention(nn.Module):\n",
    "    def __init__(self, embed_dim, num_heads):\n",
    "        super().__init__()\n",
    "        self.attn = nn.MultiheadAttention(embed_dim, num_heads)\n",
    "\n",
    "    def forward(self, x):\n",
    "        # Chuyển từ (batch_size, seq_len, embed_dim) sang (seq_len, batch_size, embed_dim)\n",
    "        x = x.transpose(0, 1)\n",
    "        # Áp dụng Multi-head Attention\n",
    "        x = self.attn(x, x, x)[0]\n",
    "        # Chuyển lại về (batch_size, seq_len, embed_dim)\n",
    "        x = x.transpose(0, 1)\n",
    "        return x\n"
   ]
  },
  {
   "cell_type": "code",
   "execution_count": 36,
   "metadata": {
    "execution": {
     "iopub.execute_input": "2024-12-14T09:22:33.018857Z",
     "iopub.status.busy": "2024-12-14T09:22:33.018541Z",
     "iopub.status.idle": "2024-12-14T09:22:33.024492Z",
     "shell.execute_reply": "2024-12-14T09:22:33.023637Z",
     "shell.execute_reply.started": "2024-12-14T09:22:33.018829Z"
    },
    "trusted": true
   },
   "outputs": [],
   "source": [
    "class TransformerEncoderBlock(nn.Module):\n",
    "    def __init__(self, embed_dim, num_heads, mlp_dim):\n",
    "        super().__init__()\n",
    "        self.attn = MultiHeadAttention(embed_dim, num_heads)\n",
    "        self.mlp = nn.Sequential(\n",
    "            nn.Linear(embed_dim, mlp_dim),\n",
    "            nn.ReLU(),\n",
    "            nn.Linear(mlp_dim, embed_dim)\n",
    "        )\n",
    "        self.norm1 = nn.LayerNorm(embed_dim)\n",
    "        self.norm2 = nn.LayerNorm(embed_dim)\n",
    "\n",
    "    def forward(self, x):\n",
    "        x = x + self.attn(self.norm1(x))\n",
    "        x = x + self.mlp(self.norm2(x))\n",
    "        return x"
   ]
  },
  {
   "cell_type": "code",
   "execution_count": 37,
   "metadata": {
    "execution": {
     "iopub.execute_input": "2024-12-14T09:22:33.131323Z",
     "iopub.status.busy": "2024-12-14T09:22:33.130661Z",
     "iopub.status.idle": "2024-12-14T09:22:33.137826Z",
     "shell.execute_reply": "2024-12-14T09:22:33.136997Z",
     "shell.execute_reply.started": "2024-12-14T09:22:33.131291Z"
    },
    "trusted": true
   },
   "outputs": [],
   "source": [
    "class VisionTransformer(nn.Module):\n",
    "    def __init__(self, img_size=256, patch_size=32, num_classes=38, embed_dim=512, num_heads=4, depth=3, mlp_dim=1024):\n",
    "        super().__init__()\n",
    "        self.patch_embedding = PatchEmbedding(img_size, patch_size, 3, embed_dim)\n",
    "        self.pos_encoding = PositionalEncoding(embed_dim, (img_size // patch_size) ** 2)\n",
    "        self.transformer_blocks = nn.ModuleList([\n",
    "            TransformerEncoderBlock(embed_dim, num_heads, mlp_dim) for _ in range(depth)\n",
    "        ])\n",
    "        self.cls_token = nn.Parameter(torch.randn(1, 1, embed_dim))\n",
    "        self.mlp_head = nn.Linear(embed_dim, num_classes)\n",
    "\n",
    "    def forward(self, x):\n",
    "        B = x.size(0)\n",
    "        x = self.patch_embedding(x)\n",
    "        cls_tokens = self.cls_token.expand(B, -1, -1)\n",
    "        x = torch.cat((cls_tokens, x), dim=1)\n",
    "        x = self.pos_encoding(x)\n",
    "        for block in self.transformer_blocks:\n",
    "            x = block(x)\n",
    "        x = self.mlp_head(x[:, 0])\n",
    "        return x"
   ]
  },
  {
   "cell_type": "code",
   "execution_count": 38,
   "metadata": {
    "execution": {
     "iopub.execute_input": "2024-12-14T09:22:33.250725Z",
     "iopub.status.busy": "2024-12-14T09:22:33.250384Z",
     "iopub.status.idle": "2024-12-14T09:22:33.256384Z",
     "shell.execute_reply": "2024-12-14T09:22:33.255543Z",
     "shell.execute_reply.started": "2024-12-14T09:22:33.250696Z"
    },
    "trusted": true
   },
   "outputs": [
    {
     "data": {
      "text/plain": [
       "device(type='cuda')"
      ]
     },
     "execution_count": 38,
     "metadata": {},
     "output_type": "execute_result"
    }
   ],
   "source": [
    "device = torch.device('cuda' if torch.cuda.is_available() else 'cpu')\n",
    "device"
   ]
  },
  {
   "cell_type": "code",
   "execution_count": 39,
   "metadata": {
    "execution": {
     "iopub.execute_input": "2024-12-14T09:22:33.379250Z",
     "iopub.status.busy": "2024-12-14T09:22:33.378554Z",
     "iopub.status.idle": "2024-12-14T09:22:33.384723Z",
     "shell.execute_reply": "2024-12-14T09:22:33.383729Z",
     "shell.execute_reply.started": "2024-12-14T09:22:33.379219Z"
    },
    "trusted": true
   },
   "outputs": [],
   "source": [
    "import torch.optim as optim\n",
    "from tqdm import tqdm\n",
    "\n",
    "train_loader = torch.utils.data.DataLoader(train_dataset, batch_size=16, shuffle=True)\n",
    "val_loader = torch.utils.data.DataLoader(val_dataset, batch_size=16, shuffle=False)\n",
    "test_loader = torch.utils.data.DataLoader(test_dataset, batch_size=16, shuffle=False)\n"
   ]
  },
  {
   "cell_type": "code",
   "execution_count": 40,
   "metadata": {
    "execution": {
     "iopub.execute_input": "2024-12-14T09:22:33.498802Z",
     "iopub.status.busy": "2024-12-14T09:22:33.498108Z",
     "iopub.status.idle": "2024-12-14T09:22:33.570731Z",
     "shell.execute_reply": "2024-12-14T09:22:33.569787Z",
     "shell.execute_reply.started": "2024-12-14T09:22:33.498771Z"
    },
    "trusted": true
   },
   "outputs": [],
   "source": [
    "import torch.nn.functional as F\n",
    "\n",
    "weight_decay = 1e-4 \n",
    "\n",
    "model = VisionTransformer().to(device)\n",
    "criterion = nn.CrossEntropyLoss()\n",
    "optimizer = optim.SGD(\n",
    "    model.parameters(), \n",
    "    lr=0.005, \n",
    "    momentum=0.9, \n",
    "    weight_decay=weight_decay\n",
    ")"
   ]
  },
  {
   "cell_type": "code",
   "execution_count": 41,
   "metadata": {
    "execution": {
     "iopub.execute_input": "2024-12-14T09:22:33.619685Z",
     "iopub.status.busy": "2024-12-14T09:22:33.619368Z",
     "iopub.status.idle": "2024-12-14T09:22:33.625323Z",
     "shell.execute_reply": "2024-12-14T09:22:33.624400Z",
     "shell.execute_reply.started": "2024-12-14T09:22:33.619656Z"
    },
    "trusted": true
   },
   "outputs": [
    {
     "data": {
      "text/plain": [
       "(1172, 173, 324)"
      ]
     },
     "execution_count": 41,
     "metadata": {},
     "output_type": "execute_result"
    }
   ],
   "source": [
    "len(train_loader), len(val_loader), len(test_loader)"
   ]
  },
  {
   "cell_type": "code",
   "execution_count": 42,
   "metadata": {
    "execution": {
     "iopub.execute_input": "2024-12-14T09:22:33.747422Z",
     "iopub.status.busy": "2024-12-14T09:22:33.746732Z",
     "iopub.status.idle": "2024-12-14T09:22:33.752956Z",
     "shell.execute_reply": "2024-12-14T09:22:33.752112Z",
     "shell.execute_reply.started": "2024-12-14T09:22:33.747391Z"
    },
    "trusted": true
   },
   "outputs": [
    {
     "data": {
      "text/plain": [
       "7935014"
      ]
     },
     "execution_count": 42,
     "metadata": {},
     "output_type": "execute_result"
    }
   ],
   "source": [
    "param_count = sum(p.numel() for p in model.parameters())\n",
    "param_count"
   ]
  },
  {
   "cell_type": "code",
   "execution_count": 43,
   "metadata": {
    "execution": {
     "iopub.execute_input": "2024-12-14T09:22:34.076086Z",
     "iopub.status.busy": "2024-12-14T09:22:34.075389Z",
     "iopub.status.idle": "2024-12-14T09:22:34.081962Z",
     "shell.execute_reply": "2024-12-14T09:22:34.081074Z",
     "shell.execute_reply.started": "2024-12-14T09:22:34.076053Z"
    },
    "trusted": true
   },
   "outputs": [],
   "source": [
    "class EarlyStopping:\n",
    "    def __init__(self, patience=5, delta=0):\n",
    "        self.patience = patience\n",
    "        self.delta = delta\n",
    "        self.best_score = None\n",
    "        self.early_stop = False\n",
    "        self.counter = 0\n",
    "        self.best_model_state = None\n",
    "\n",
    "    def __call__(self, val_loss, model):\n",
    "        score = -val_loss\n",
    "        if self.best_score is None:\n",
    "            self.best_score = score\n",
    "            self.best_model_state = model.state_dict()\n",
    "        elif score < self.best_score + self.delta:\n",
    "            self.counter += 1\n",
    "            if self.counter >= self.patience:\n",
    "                self.early_stop = True\n",
    "        else:\n",
    "            self.best_score = score\n",
    "            self.best_model_state = model.state_dict()\n",
    "            self.counter = 0\n",
    "\n",
    "    def load_best_model(self, model):\n",
    "        model.load_state_dict(self.best_model_state)"
   ]
  },
  {
   "cell_type": "code",
   "execution_count": 44,
   "metadata": {
    "execution": {
     "iopub.execute_input": "2024-12-14T09:22:34.333807Z",
     "iopub.status.busy": "2024-12-14T09:22:34.332078Z",
     "iopub.status.idle": "2024-12-14T09:22:34.337824Z",
     "shell.execute_reply": "2024-12-14T09:22:34.336804Z",
     "shell.execute_reply.started": "2024-12-14T09:22:34.333763Z"
    },
    "trusted": true
   },
   "outputs": [],
   "source": [
    "num_epochs = 50"
   ]
  },
  {
   "cell_type": "code",
   "execution_count": 45,
   "metadata": {
    "execution": {
     "iopub.execute_input": "2024-12-14T09:22:34.655028Z",
     "iopub.status.busy": "2024-12-14T09:22:34.654674Z",
     "iopub.status.idle": "2024-12-14T09:22:34.666199Z",
     "shell.execute_reply": "2024-12-14T09:22:34.665107Z",
     "shell.execute_reply.started": "2024-12-14T09:22:34.654998Z"
    },
    "scrolled": true,
    "trusted": true
   },
   "outputs": [],
   "source": [
    "from tqdm import tqdm\n",
    "from sklearn.metrics import f1_score\n",
    "\n",
    "train_losses = []\n",
    "train_accuracy = []\n",
    "val_losses = []\n",
    "val_accuracy = []\n",
    "\n",
    "early_stopping = EarlyStopping()\n",
    "\n",
    "\n",
    "# Train Network\n",
    "def training(model, num_epochs):\n",
    "    for epoch in range(num_epochs):\n",
    "        running_loss = 0.0\n",
    "        correct = 0\n",
    "        total = 0\n",
    "        all_labels = []\n",
    "        all_preds = []\n",
    "        for data in tqdm(train_loader):\n",
    "            inputs, labels = data\n",
    "            inputs = inputs.to(device)\n",
    "            labels = labels.to(device)\n",
    "            \n",
    "            optimizer.zero_grad()\n",
    "            outputs = model(inputs)\n",
    "            \n",
    "            loss = criterion(outputs, labels)\n",
    "            loss.backward()\n",
    "            optimizer.step()\n",
    "            \n",
    "            running_loss += loss.item()\n",
    "            # compute accuracy\n",
    "            _, predicted = torch.max(outputs, 1)\n",
    "            total += labels.size(0)\n",
    "            correct += (predicted == labels).sum().item()\n",
    "    \n",
    "            # Collect all labels and predictions for F1 score\n",
    "            all_labels.extend(labels.cpu().numpy())\n",
    "            all_preds.extend(predicted.cpu().numpy())\n",
    "            \n",
    "        epoch_loss = running_loss / len(train_loader)\n",
    "        train_losses.append(epoch_loss)\n",
    "        accuracy = 100 * correct / total\n",
    "        train_accuracy.append(accuracy)\n",
    "    \n",
    "        f1 = f1_score(all_labels, all_preds, average='macro')\n",
    "    \n",
    "        print(f'Epoch {epoch+1}/{num_epochs} - Train Loss: {epoch_loss:.2f}, Accuracy: {accuracy:.2f}%, F1 Score: {f1:.2f}')\n",
    "    \n",
    "        model.eval()  # Đặt mô hình ở chế độ đánh giá\n",
    "        running_loss = 0.0\n",
    "        correct = 0\n",
    "        total = 0\n",
    "        \n",
    "        with torch.no_grad():\n",
    "            for data in tqdm(val_loader):\n",
    "                inputs, labels = data\n",
    "                inputs = inputs.to(device)\n",
    "                labels = labels.to(device)\n",
    "                \n",
    "                outputs = model(inputs)\n",
    "                \n",
    "                loss = criterion(outputs, labels)\n",
    "        \n",
    "                # update running_loss\n",
    "                running_loss += loss.item()\n",
    "        \n",
    "                # Đo lường độ chính xác\n",
    "                _, predicted = torch.max(outputs, 1)\n",
    "                total += labels.size(0)\n",
    "                correct += (predicted == labels).sum().item()\n",
    "    \n",
    "                # Collect all labels and predictions for F1 score\n",
    "                all_labels.extend(labels.cpu().numpy())\n",
    "                all_preds.extend(predicted.cpu().numpy())\n",
    "                \n",
    "            epoch_loss = running_loss / len(val_loader)\n",
    "            val_losses.append(epoch_loss)\n",
    "            accuracy = 100 * correct / total\n",
    "            val_accuracy.append(accuracy)\n",
    "    \n",
    "            f1 = f1_score(all_labels, all_preds, average='macro')\n",
    "            \n",
    "            print(f'Test Loss: {epoch_loss:.2f}, Accuracy: {accuracy:.2f}%, F1 Score: {f1:.2f}')\n",
    "\n",
    "        early_stopping(epoch_loss, model)\n",
    "        if early_stopping.early_stop:\n",
    "            print(\"Early stopping\")\n",
    "            break"
   ]
  },
  {
   "cell_type": "code",
   "execution_count": 46,
   "metadata": {
    "execution": {
     "iopub.execute_input": "2024-12-14T09:22:34.959820Z",
     "iopub.status.busy": "2024-12-14T09:22:34.958943Z",
     "iopub.status.idle": "2024-12-14T11:53:13.561426Z",
     "shell.execute_reply": "2024-12-14T11:53:13.560517Z",
     "shell.execute_reply.started": "2024-12-14T09:22:34.959789Z"
    },
    "trusted": true
   },
   "outputs": [
    {
     "name": "stderr",
     "output_type": "stream",
     "text": [
      " 39%|███▉      | 455/1172 [03:20<05:04,  2.35it/s]/opt/conda/lib/python3.10/site-packages/PIL/Image.py:1054: UserWarning: Palette images with Transparency expressed in bytes should be converted to RGBA images\n",
      "  warnings.warn(\n",
      "100%|██████████| 1172/1172 [08:30<00:00,  2.30it/s]\n"
     ]
    },
    {
     "name": "stdout",
     "output_type": "stream",
     "text": [
      "Epoch 1/50 - Train Loss: 3.23, Accuracy: 13.53%, F1 Score: 0.10\n"
     ]
    },
    {
     "name": "stderr",
     "output_type": "stream",
     "text": [
      "100%|██████████| 173/173 [01:11<00:00,  2.44it/s]\n"
     ]
    },
    {
     "name": "stdout",
     "output_type": "stream",
     "text": [
      "Test Loss: 3.13, Accuracy: 17.19%, F1 Score: 0.10\n"
     ]
    },
    {
     "name": "stderr",
     "output_type": "stream",
     "text": [
      "  4%|▍         | 44/1172 [00:13<05:49,  3.22it/s]/opt/conda/lib/python3.10/site-packages/PIL/Image.py:1054: UserWarning: Palette images with Transparency expressed in bytes should be converted to RGBA images\n",
      "  warnings.warn(\n",
      "100%|██████████| 1172/1172 [06:03<00:00,  3.22it/s]\n"
     ]
    },
    {
     "name": "stdout",
     "output_type": "stream",
     "text": [
      "Epoch 2/50 - Train Loss: 2.91, Accuracy: 20.47%, F1 Score: 0.16\n"
     ]
    },
    {
     "name": "stderr",
     "output_type": "stream",
     "text": [
      "100%|██████████| 173/173 [00:49<00:00,  3.48it/s]\n"
     ]
    },
    {
     "name": "stdout",
     "output_type": "stream",
     "text": [
      "Test Loss: 2.86, Accuracy: 21.91%, F1 Score: 0.16\n"
     ]
    },
    {
     "name": "stderr",
     "output_type": "stream",
     "text": [
      "  6%|▌         | 65/1172 [00:21<06:24,  2.88it/s]/opt/conda/lib/python3.10/site-packages/PIL/Image.py:1054: UserWarning: Palette images with Transparency expressed in bytes should be converted to RGBA images\n",
      "  warnings.warn(\n",
      "100%|██████████| 1172/1172 [05:53<00:00,  3.31it/s]\n"
     ]
    },
    {
     "name": "stdout",
     "output_type": "stream",
     "text": [
      "Epoch 3/50 - Train Loss: 2.77, Accuracy: 23.89%, F1 Score: 0.20\n"
     ]
    },
    {
     "name": "stderr",
     "output_type": "stream",
     "text": [
      "100%|██████████| 173/173 [00:48<00:00,  3.55it/s]\n"
     ]
    },
    {
     "name": "stdout",
     "output_type": "stream",
     "text": [
      "Test Loss: 2.73, Accuracy: 25.39%, F1 Score: 0.20\n"
     ]
    },
    {
     "name": "stderr",
     "output_type": "stream",
     "text": [
      " 21%|██        | 244/1172 [01:12<04:11,  3.68it/s]/opt/conda/lib/python3.10/site-packages/PIL/Image.py:1054: UserWarning: Palette images with Transparency expressed in bytes should be converted to RGBA images\n",
      "  warnings.warn(\n",
      "100%|██████████| 1172/1172 [05:59<00:00,  3.26it/s]\n"
     ]
    },
    {
     "name": "stdout",
     "output_type": "stream",
     "text": [
      "Epoch 4/50 - Train Loss: 2.69, Accuracy: 26.04%, F1 Score: 0.22\n"
     ]
    },
    {
     "name": "stderr",
     "output_type": "stream",
     "text": [
      "100%|██████████| 173/173 [00:47<00:00,  3.61it/s]\n"
     ]
    },
    {
     "name": "stdout",
     "output_type": "stream",
     "text": [
      "Test Loss: 2.59, Accuracy: 27.60%, F1 Score: 0.22\n"
     ]
    },
    {
     "name": "stderr",
     "output_type": "stream",
     "text": [
      "  3%|▎         | 37/1172 [00:11<05:34,  3.39it/s]/opt/conda/lib/python3.10/site-packages/PIL/Image.py:1054: UserWarning: Palette images with Transparency expressed in bytes should be converted to RGBA images\n",
      "  warnings.warn(\n",
      "100%|██████████| 1172/1172 [05:54<00:00,  3.31it/s]\n"
     ]
    },
    {
     "name": "stdout",
     "output_type": "stream",
     "text": [
      "Epoch 5/50 - Train Loss: 2.62, Accuracy: 27.97%, F1 Score: 0.24\n"
     ]
    },
    {
     "name": "stderr",
     "output_type": "stream",
     "text": [
      "100%|██████████| 173/173 [00:48<00:00,  3.59it/s]\n"
     ]
    },
    {
     "name": "stdout",
     "output_type": "stream",
     "text": [
      "Test Loss: 2.67, Accuracy: 25.54%, F1 Score: 0.24\n"
     ]
    },
    {
     "name": "stderr",
     "output_type": "stream",
     "text": [
      " 43%|████▎     | 505/1172 [02:33<03:51,  2.89it/s]/opt/conda/lib/python3.10/site-packages/PIL/Image.py:1054: UserWarning: Palette images with Transparency expressed in bytes should be converted to RGBA images\n",
      "  warnings.warn(\n",
      "100%|██████████| 1172/1172 [05:55<00:00,  3.30it/s]\n"
     ]
    },
    {
     "name": "stdout",
     "output_type": "stream",
     "text": [
      "Epoch 6/50 - Train Loss: 2.56, Accuracy: 28.97%, F1 Score: 0.25\n"
     ]
    },
    {
     "name": "stderr",
     "output_type": "stream",
     "text": [
      "100%|██████████| 173/173 [00:49<00:00,  3.48it/s]\n"
     ]
    },
    {
     "name": "stdout",
     "output_type": "stream",
     "text": [
      "Test Loss: 2.63, Accuracy: 27.89%, F1 Score: 0.25\n"
     ]
    },
    {
     "name": "stderr",
     "output_type": "stream",
     "text": [
      " 72%|███████▏  | 839/1172 [04:14<01:41,  3.27it/s]/opt/conda/lib/python3.10/site-packages/PIL/Image.py:1054: UserWarning: Palette images with Transparency expressed in bytes should be converted to RGBA images\n",
      "  warnings.warn(\n",
      "100%|██████████| 1172/1172 [05:54<00:00,  3.31it/s]\n"
     ]
    },
    {
     "name": "stdout",
     "output_type": "stream",
     "text": [
      "Epoch 7/50 - Train Loss: 2.51, Accuracy: 30.52%, F1 Score: 0.27\n"
     ]
    },
    {
     "name": "stderr",
     "output_type": "stream",
     "text": [
      "100%|██████████| 173/173 [00:48<00:00,  3.59it/s]\n"
     ]
    },
    {
     "name": "stdout",
     "output_type": "stream",
     "text": [
      "Test Loss: 2.64, Accuracy: 26.77%, F1 Score: 0.27\n"
     ]
    },
    {
     "name": "stderr",
     "output_type": "stream",
     "text": [
      "  3%|▎         | 30/1172 [00:09<05:50,  3.26it/s]/opt/conda/lib/python3.10/site-packages/PIL/Image.py:1054: UserWarning: Palette images with Transparency expressed in bytes should be converted to RGBA images\n",
      "  warnings.warn(\n",
      "100%|██████████| 1172/1172 [05:56<00:00,  3.29it/s]\n"
     ]
    },
    {
     "name": "stdout",
     "output_type": "stream",
     "text": [
      "Epoch 8/50 - Train Loss: 2.48, Accuracy: 31.19%, F1 Score: 0.27\n"
     ]
    },
    {
     "name": "stderr",
     "output_type": "stream",
     "text": [
      "100%|██████████| 173/173 [00:47<00:00,  3.62it/s]\n"
     ]
    },
    {
     "name": "stdout",
     "output_type": "stream",
     "text": [
      "Test Loss: 2.59, Accuracy: 27.86%, F1 Score: 0.27\n"
     ]
    },
    {
     "name": "stderr",
     "output_type": "stream",
     "text": [
      " 17%|█▋        | 200/1172 [00:58<06:39,  2.43it/s]/opt/conda/lib/python3.10/site-packages/PIL/Image.py:1054: UserWarning: Palette images with Transparency expressed in bytes should be converted to RGBA images\n",
      "  warnings.warn(\n",
      "100%|██████████| 1172/1172 [05:54<00:00,  3.31it/s]\n"
     ]
    },
    {
     "name": "stdout",
     "output_type": "stream",
     "text": [
      "Epoch 9/50 - Train Loss: 2.40, Accuracy: 33.31%, F1 Score: 0.30\n"
     ]
    },
    {
     "name": "stderr",
     "output_type": "stream",
     "text": [
      "100%|██████████| 173/173 [00:47<00:00,  3.62it/s]\n"
     ]
    },
    {
     "name": "stdout",
     "output_type": "stream",
     "text": [
      "Test Loss: 2.49, Accuracy: 31.41%, F1 Score: 0.29\n"
     ]
    },
    {
     "name": "stderr",
     "output_type": "stream",
     "text": [
      " 49%|████▉     | 577/1172 [02:53<04:03,  2.45it/s]/opt/conda/lib/python3.10/site-packages/PIL/Image.py:1054: UserWarning: Palette images with Transparency expressed in bytes should be converted to RGBA images\n",
      "  warnings.warn(\n",
      "100%|██████████| 1172/1172 [05:52<00:00,  3.32it/s]\n"
     ]
    },
    {
     "name": "stdout",
     "output_type": "stream",
     "text": [
      "Epoch 10/50 - Train Loss: 2.38, Accuracy: 33.06%, F1 Score: 0.30\n"
     ]
    },
    {
     "name": "stderr",
     "output_type": "stream",
     "text": [
      "100%|██████████| 173/173 [00:47<00:00,  3.64it/s]\n"
     ]
    },
    {
     "name": "stdout",
     "output_type": "stream",
     "text": [
      "Test Loss: 2.53, Accuracy: 30.00%, F1 Score: 0.30\n"
     ]
    },
    {
     "name": "stderr",
     "output_type": "stream",
     "text": [
      " 13%|█▎        | 158/1172 [00:48<06:25,  2.63it/s]/opt/conda/lib/python3.10/site-packages/PIL/Image.py:1054: UserWarning: Palette images with Transparency expressed in bytes should be converted to RGBA images\n",
      "  warnings.warn(\n",
      "100%|██████████| 1172/1172 [05:52<00:00,  3.33it/s]\n"
     ]
    },
    {
     "name": "stdout",
     "output_type": "stream",
     "text": [
      "Epoch 11/50 - Train Loss: 2.34, Accuracy: 33.93%, F1 Score: 0.31\n"
     ]
    },
    {
     "name": "stderr",
     "output_type": "stream",
     "text": [
      "100%|██████████| 173/173 [00:48<00:00,  3.58it/s]\n"
     ]
    },
    {
     "name": "stdout",
     "output_type": "stream",
     "text": [
      "Test Loss: 2.45, Accuracy: 30.47%, F1 Score: 0.31\n"
     ]
    },
    {
     "name": "stderr",
     "output_type": "stream",
     "text": [
      " 47%|████▋     | 554/1172 [02:43<03:05,  3.33it/s]/opt/conda/lib/python3.10/site-packages/PIL/Image.py:1054: UserWarning: Palette images with Transparency expressed in bytes should be converted to RGBA images\n",
      "  warnings.warn(\n",
      "100%|██████████| 1172/1172 [05:50<00:00,  3.34it/s]\n"
     ]
    },
    {
     "name": "stdout",
     "output_type": "stream",
     "text": [
      "Epoch 12/50 - Train Loss: 2.30, Accuracy: 35.64%, F1 Score: 0.33\n"
     ]
    },
    {
     "name": "stderr",
     "output_type": "stream",
     "text": [
      "100%|██████████| 173/173 [00:47<00:00,  3.64it/s]\n"
     ]
    },
    {
     "name": "stdout",
     "output_type": "stream",
     "text": [
      "Test Loss: 2.36, Accuracy: 33.33%, F1 Score: 0.32\n"
     ]
    },
    {
     "name": "stderr",
     "output_type": "stream",
     "text": [
      "  4%|▍         | 44/1172 [00:13<05:18,  3.54it/s]/opt/conda/lib/python3.10/site-packages/PIL/Image.py:1054: UserWarning: Palette images with Transparency expressed in bytes should be converted to RGBA images\n",
      "  warnings.warn(\n",
      "100%|██████████| 1172/1172 [05:54<00:00,  3.30it/s]\n"
     ]
    },
    {
     "name": "stdout",
     "output_type": "stream",
     "text": [
      "Epoch 13/50 - Train Loss: 2.26, Accuracy: 36.21%, F1 Score: 0.33\n"
     ]
    },
    {
     "name": "stderr",
     "output_type": "stream",
     "text": [
      "100%|██████████| 173/173 [00:47<00:00,  3.63it/s]\n"
     ]
    },
    {
     "name": "stdout",
     "output_type": "stream",
     "text": [
      "Test Loss: 2.43, Accuracy: 32.50%, F1 Score: 0.33\n"
     ]
    },
    {
     "name": "stderr",
     "output_type": "stream",
     "text": [
      " 38%|███▊      | 442/1172 [02:11<03:01,  4.02it/s]/opt/conda/lib/python3.10/site-packages/PIL/Image.py:1054: UserWarning: Palette images with Transparency expressed in bytes should be converted to RGBA images\n",
      "  warnings.warn(\n",
      "100%|██████████| 1172/1172 [05:50<00:00,  3.34it/s]\n"
     ]
    },
    {
     "name": "stdout",
     "output_type": "stream",
     "text": [
      "Epoch 14/50 - Train Loss: 2.23, Accuracy: 37.50%, F1 Score: 0.34\n"
     ]
    },
    {
     "name": "stderr",
     "output_type": "stream",
     "text": [
      "100%|██████████| 173/173 [00:48<00:00,  3.57it/s]\n"
     ]
    },
    {
     "name": "stdout",
     "output_type": "stream",
     "text": [
      "Test Loss: 2.33, Accuracy: 34.31%, F1 Score: 0.34\n"
     ]
    },
    {
     "name": "stderr",
     "output_type": "stream",
     "text": [
      " 20%|██        | 239/1172 [01:14<04:40,  3.33it/s]/opt/conda/lib/python3.10/site-packages/PIL/Image.py:1054: UserWarning: Palette images with Transparency expressed in bytes should be converted to RGBA images\n",
      "  warnings.warn(\n",
      "100%|██████████| 1172/1172 [05:55<00:00,  3.30it/s]\n"
     ]
    },
    {
     "name": "stdout",
     "output_type": "stream",
     "text": [
      "Epoch 15/50 - Train Loss: 2.20, Accuracy: 38.16%, F1 Score: 0.36\n"
     ]
    },
    {
     "name": "stderr",
     "output_type": "stream",
     "text": [
      "100%|██████████| 173/173 [00:48<00:00,  3.56it/s]\n"
     ]
    },
    {
     "name": "stdout",
     "output_type": "stream",
     "text": [
      "Test Loss: 2.38, Accuracy: 34.10%, F1 Score: 0.35\n"
     ]
    },
    {
     "name": "stderr",
     "output_type": "stream",
     "text": [
      "  2%|▏         | 21/1172 [00:05<05:04,  3.78it/s]/opt/conda/lib/python3.10/site-packages/PIL/Image.py:1054: UserWarning: Palette images with Transparency expressed in bytes should be converted to RGBA images\n",
      "  warnings.warn(\n",
      "100%|██████████| 1172/1172 [05:54<00:00,  3.31it/s]\n"
     ]
    },
    {
     "name": "stdout",
     "output_type": "stream",
     "text": [
      "Epoch 16/50 - Train Loss: 2.16, Accuracy: 38.42%, F1 Score: 0.36\n"
     ]
    },
    {
     "name": "stderr",
     "output_type": "stream",
     "text": [
      "100%|██████████| 173/173 [00:47<00:00,  3.61it/s]\n"
     ]
    },
    {
     "name": "stdout",
     "output_type": "stream",
     "text": [
      "Test Loss: 2.49, Accuracy: 30.40%, F1 Score: 0.35\n"
     ]
    },
    {
     "name": "stderr",
     "output_type": "stream",
     "text": [
      "  1%|▏         | 17/1172 [00:04<06:06,  3.15it/s]/opt/conda/lib/python3.10/site-packages/PIL/Image.py:1054: UserWarning: Palette images with Transparency expressed in bytes should be converted to RGBA images\n",
      "  warnings.warn(\n",
      "100%|██████████| 1172/1172 [05:53<00:00,  3.32it/s]\n"
     ]
    },
    {
     "name": "stdout",
     "output_type": "stream",
     "text": [
      "Epoch 17/50 - Train Loss: 2.13, Accuracy: 39.28%, F1 Score: 0.37\n"
     ]
    },
    {
     "name": "stderr",
     "output_type": "stream",
     "text": [
      "100%|██████████| 173/173 [00:47<00:00,  3.62it/s]\n"
     ]
    },
    {
     "name": "stdout",
     "output_type": "stream",
     "text": [
      "Test Loss: 2.29, Accuracy: 35.62%, F1 Score: 0.37\n"
     ]
    },
    {
     "name": "stderr",
     "output_type": "stream",
     "text": [
      " 45%|████▌     | 533/1172 [02:39<03:10,  3.36it/s]/opt/conda/lib/python3.10/site-packages/PIL/Image.py:1054: UserWarning: Palette images with Transparency expressed in bytes should be converted to RGBA images\n",
      "  warnings.warn(\n",
      "100%|██████████| 1172/1172 [05:52<00:00,  3.32it/s]\n"
     ]
    },
    {
     "name": "stdout",
     "output_type": "stream",
     "text": [
      "Epoch 18/50 - Train Loss: 2.10, Accuracy: 40.12%, F1 Score: 0.38\n"
     ]
    },
    {
     "name": "stderr",
     "output_type": "stream",
     "text": [
      "100%|██████████| 173/173 [00:48<00:00,  3.59it/s]\n"
     ]
    },
    {
     "name": "stdout",
     "output_type": "stream",
     "text": [
      "Test Loss: 2.31, Accuracy: 37.18%, F1 Score: 0.37\n"
     ]
    },
    {
     "name": "stderr",
     "output_type": "stream",
     "text": [
      " 17%|█▋        | 202/1172 [01:01<04:52,  3.32it/s]/opt/conda/lib/python3.10/site-packages/PIL/Image.py:1054: UserWarning: Palette images with Transparency expressed in bytes should be converted to RGBA images\n",
      "  warnings.warn(\n",
      "100%|██████████| 1172/1172 [05:54<00:00,  3.30it/s]\n"
     ]
    },
    {
     "name": "stdout",
     "output_type": "stream",
     "text": [
      "Epoch 19/50 - Train Loss: 2.05, Accuracy: 41.51%, F1 Score: 0.39\n"
     ]
    },
    {
     "name": "stderr",
     "output_type": "stream",
     "text": [
      "100%|██████████| 173/173 [00:48<00:00,  3.58it/s]\n"
     ]
    },
    {
     "name": "stdout",
     "output_type": "stream",
     "text": [
      "Test Loss: 2.34, Accuracy: 34.35%, F1 Score: 0.38\n"
     ]
    },
    {
     "name": "stderr",
     "output_type": "stream",
     "text": [
      " 47%|████▋     | 547/1172 [02:42<03:11,  3.27it/s]/opt/conda/lib/python3.10/site-packages/PIL/Image.py:1054: UserWarning: Palette images with Transparency expressed in bytes should be converted to RGBA images\n",
      "  warnings.warn(\n",
      "100%|██████████| 1172/1172 [05:52<00:00,  3.32it/s]\n"
     ]
    },
    {
     "name": "stdout",
     "output_type": "stream",
     "text": [
      "Epoch 20/50 - Train Loss: 2.03, Accuracy: 42.01%, F1 Score: 0.40\n"
     ]
    },
    {
     "name": "stderr",
     "output_type": "stream",
     "text": [
      "100%|██████████| 173/173 [00:47<00:00,  3.62it/s]\n"
     ]
    },
    {
     "name": "stdout",
     "output_type": "stream",
     "text": [
      "Test Loss: 2.33, Accuracy: 36.45%, F1 Score: 0.39\n"
     ]
    },
    {
     "name": "stderr",
     "output_type": "stream",
     "text": [
      " 74%|███████▎  | 864/1172 [04:18<01:29,  3.42it/s]/opt/conda/lib/python3.10/site-packages/PIL/Image.py:1054: UserWarning: Palette images with Transparency expressed in bytes should be converted to RGBA images\n",
      "  warnings.warn(\n",
      "100%|██████████| 1172/1172 [05:54<00:00,  3.30it/s]\n"
     ]
    },
    {
     "name": "stdout",
     "output_type": "stream",
     "text": [
      "Epoch 21/50 - Train Loss: 2.00, Accuracy: 42.67%, F1 Score: 0.41\n"
     ]
    },
    {
     "name": "stderr",
     "output_type": "stream",
     "text": [
      "100%|██████████| 173/173 [00:47<00:00,  3.62it/s]\n"
     ]
    },
    {
     "name": "stdout",
     "output_type": "stream",
     "text": [
      "Test Loss: 2.29, Accuracy: 37.98%, F1 Score: 0.40\n"
     ]
    },
    {
     "name": "stderr",
     "output_type": "stream",
     "text": [
      " 38%|███▊      | 442/1172 [02:13<03:22,  3.60it/s]/opt/conda/lib/python3.10/site-packages/PIL/Image.py:1054: UserWarning: Palette images with Transparency expressed in bytes should be converted to RGBA images\n",
      "  warnings.warn(\n",
      "100%|██████████| 1172/1172 [05:53<00:00,  3.32it/s]\n"
     ]
    },
    {
     "name": "stdout",
     "output_type": "stream",
     "text": [
      "Epoch 22/50 - Train Loss: 1.97, Accuracy: 43.18%, F1 Score: 0.41\n"
     ]
    },
    {
     "name": "stderr",
     "output_type": "stream",
     "text": [
      "100%|██████████| 173/173 [00:48<00:00,  3.58it/s]"
     ]
    },
    {
     "name": "stdout",
     "output_type": "stream",
     "text": [
      "Test Loss: 2.37, Accuracy: 36.24%, F1 Score: 0.40\n",
      "Early stopping\n"
     ]
    },
    {
     "name": "stderr",
     "output_type": "stream",
     "text": [
      "\n"
     ]
    }
   ],
   "source": [
    "training(model, num_epochs)"
   ]
  },
  {
   "cell_type": "code",
   "execution_count": 47,
   "metadata": {
    "execution": {
     "iopub.execute_input": "2024-12-14T12:04:17.197600Z",
     "iopub.status.busy": "2024-12-14T12:04:17.197210Z",
     "iopub.status.idle": "2024-12-14T12:04:17.628685Z",
     "shell.execute_reply": "2024-12-14T12:04:17.627863Z",
     "shell.execute_reply.started": "2024-12-14T12:04:17.197566Z"
    },
    "trusted": true
   },
   "outputs": [
    {
     "data": {
      "image/png": "[encoded data removed]",
      "text/plain": [
       "<Figure size 1200x600 with 2 Axes>"
      ]
     },
     "metadata": {},
     "output_type": "display_data"
    }
   ],
   "source": [
    "import matplotlib.pyplot as plt\n",
    "\n",
    "# Vẽ đồ thị loss\n",
    "plt.figure(figsize=(12, 6))\n",
    "plt.subplot(1, 2, 1)\n",
    "plt.plot(train_losses, label='Train Loss')\n",
    "plt.plot(val_losses, label='Validation Loss')\n",
    "plt.xlabel('Epochs')\n",
    "plt.ylabel('Loss')\n",
    "plt.title('Train vs Validation Loss')\n",
    "plt.legend()\n",
    "plt.grid(True)\n",
    "\n",
    "# Vẽ đồ thị accuracy\n",
    "plt.subplot(1, 2, 2)\n",
    "plt.plot(train_accuracy, label='Train Accuracy')\n",
    "plt.plot(val_accuracy, label='Validation Accuracy')\n",
    "plt.xlabel('Epochs')\n",
    "plt.ylabel('Accuracy (%)')\n",
    "plt.title('Train vs Validation Accuracy')\n",
    "plt.legend()\n",
    "plt.grid(True)\n",
    "\n",
    "# Hiển thị đồ thị\n",
    "plt.tight_layout()\n",
    "plt.show()\n"
   ]
  },
  {
   "cell_type": "code",
   "execution_count": 48,
   "metadata": {
    "execution": {
     "iopub.execute_input": "2024-12-14T12:04:26.884131Z",
     "iopub.status.busy": "2024-12-14T12:04:26.883169Z",
     "iopub.status.idle": "2024-12-14T12:06:45.736160Z",
     "shell.execute_reply": "2024-12-14T12:06:45.735355Z",
     "shell.execute_reply.started": "2024-12-14T12:04:26.884085Z"
    },
    "trusted": true
   },
   "outputs": [],
   "source": [
    "from sklearn.metrics import accuracy_score, precision_score, recall_score, f1_score, classification_report\n",
    "\n",
    "# Đặt mô hình ở chế độ đánh giá\n",
    "model.eval()\n",
    "\n",
    "# Biến để lưu nhãn và dự đoán\n",
    "all_labels = []\n",
    "all_preds = []\n",
    "\n",
    "# Không tính gradient khi đánh giá\n",
    "with torch.no_grad():\n",
    "    for inputs, labels in test_loader:\n",
    "        # Chuyển dữ liệu sang thiết bị phù hợp (CPU/GPU)\n",
    "        inputs, labels = inputs.to(device), labels.to(device)\n",
    "\n",
    "        # Dự đoán\n",
    "        outputs = model(inputs)\n",
    "        _, predicted = torch.max(outputs, 1)\n",
    "\n",
    "        # Lưu nhãn thật và dự đoán\n",
    "        all_labels.extend(labels.cpu().numpy())\n",
    "        all_preds.extend(predicted.cpu().numpy())\n",
    "\n",
    "# Sử dụng sklearn để tính toán các chỉ số\n",
    "accuracy = accuracy_score(all_labels, all_preds)\n",
    "recall = recall_score(all_labels, all_preds, average=None)  # None để tính cho từng nhãn\n",
    "precision = precision_score(all_labels, all_preds, average=None)\n",
    "f1 = f1_score(all_labels, all_preds, average=None)"
   ]
  },
  {
   "cell_type": "code",
   "execution_count": 49,
   "metadata": {
    "execution": {
     "iopub.execute_input": "2024-12-14T12:06:45.738663Z",
     "iopub.status.busy": "2024-12-14T12:06:45.737840Z",
     "iopub.status.idle": "2024-12-14T12:06:45.757325Z",
     "shell.execute_reply": "2024-12-14T12:06:45.756437Z",
     "shell.execute_reply.started": "2024-12-14T12:06:45.738618Z"
    },
    "trusted": true
   },
   "outputs": [
    {
     "name": "stdout",
     "output_type": "stream",
     "text": [
      "\n",
      "Classification Report:\n",
      "                  precision    recall  f1-score   support\n",
      "\n",
      "        Banh beo       0.65      0.43      0.52       129\n",
      "    Banh bot loc       0.22      0.14      0.17       144\n",
      "        Banh can       0.36      0.21      0.26       149\n",
      "       Banh canh       0.27      0.06      0.09       193\n",
      "      Banh chung       0.43      0.38      0.40       102\n",
      "       Banh cuon       0.48      0.19      0.27       228\n",
      "        Banh duc       0.15      0.14      0.15       133\n",
      "        Banh gio       0.38      0.21      0.27       129\n",
      "       Banh khot       0.21      0.50      0.30       167\n",
      "         Banh mi       0.44      0.59      0.50       268\n",
      "        Banh pia       0.59      0.49      0.54        89\n",
      "        Banh tet       0.51      0.35      0.41       138\n",
      "Banh trang nuong       0.47      0.44      0.45       159\n",
      "        Banh xeo       0.60      0.56      0.58       235\n",
      "      Bun bo Hue       0.55      0.31      0.40       306\n",
      " Bun dau mam tom       0.46      0.76      0.57       184\n",
      "         Bun mam       0.30      0.40      0.35       155\n",
      "        Bun rieu       0.31      0.32      0.31       231\n",
      "  Bun thit nuong       0.30      0.40      0.34       150\n",
      "      Bánh cu đơ       1.00      0.11      0.20        18\n",
      "     Bánh mì cay       0.50      0.07      0.12        14\n",
      "     Bánh đa cua       0.00      0.00      0.00        14\n",
      "   Bánh đậu xanh       0.27      0.18      0.21        17\n",
      "          Bò bía       0.25      0.26      0.26        19\n",
      "          Bún cá       0.03      0.08      0.04        13\n",
      "       Ca kho to       0.50      0.51      0.50       136\n",
      "       Canh chua       0.41      0.27      0.32       165\n",
      "         Cao lau       0.25      0.34      0.29       124\n",
      "       Chao long       0.63      0.23      0.33       215\n",
      "         Com tam       0.40      0.51      0.45       189\n",
      "        Cơm cháy       0.33      0.11      0.17        18\n",
      "        Goi cuon       0.23      0.53      0.32       172\n",
      "         Hu tieu       0.29      0.42      0.34       197\n",
      "        Mi quang       0.27      0.25      0.26       177\n",
      "        Nem chua       0.52      0.50      0.51       109\n",
      "       Nem nướng       0.27      0.25      0.26        16\n",
      "             Pho       0.40      0.39      0.40       162\n",
      "         Xoi xeo       0.42      0.58      0.49       105\n",
      "\n",
      "        accuracy                           0.37      5169\n",
      "       macro avg       0.39      0.33      0.33      5169\n",
      "    weighted avg       0.40      0.37      0.36      5169\n",
      "\n"
     ]
    }
   ],
   "source": [
    "# Báo cáo chi tiết\n",
    "print(\"\\nClassification Report:\")\n",
    "print(classification_report(all_labels, all_preds, target_names=test_dataset.labels))"
   ]
  },
  {
   "cell_type": "code",
   "execution_count": 50,
   "metadata": {
    "execution": {
     "iopub.execute_input": "2024-12-14T12:08:55.466917Z",
     "iopub.status.busy": "2024-12-14T12:08:55.466076Z",
     "iopub.status.idle": "2024-12-14T12:08:55.518942Z",
     "shell.execute_reply": "2024-12-14T12:08:55.518124Z",
     "shell.execute_reply.started": "2024-12-14T12:08:55.466884Z"
    },
    "trusted": true
   },
   "outputs": [
    {
     "name": "stdout",
     "output_type": "stream",
     "text": [
      "Model saved to /kaggle/working/final.pth\n"
     ]
    }
   ],
   "source": [
    "import torch\n",
    "\n",
    "# Đường dẫn lưu file (thư mục Kaggle Notebook làm việc)\n",
    "model_save_path = '/kaggle/working/final.pth'\n",
    "\n",
    "# Lưu state_dict của mô hình\n",
    "torch.save(model.state_dict(), model_save_path)\n",
    "print(f\"Model saved to {model_save_path}\")"
   ]
  }
 ],
 "metadata": {
  "kaggle": {
   "accelerator": "nvidiaTeslaT4",
   "dataSources": [
    {
     "databundleVersionId": 2441742,
     "datasetId": 1050510,
     "sourceId": 2399712,
     "sourceType": "datasetVersion"
    },
    {
     "databundleVersionId": 10408187,
     "datasetId": 5468620,
     "sourceId": 10125143,
     "sourceType": "datasetVersion"
    },
    {
     "databundleVersionId": 10436624,
     "datasetId": 6266435,
     "sourceId": 10150608,
     "sourceType": "datasetVersion"
    }
   ],
   "dockerImageVersionId": 30804,
   "isGpuEnabled": true,
   "isInternetEnabled": true,
   "language": "python",
   "sourceType": "notebook"
  },
  "kernelspec": {
   "display_name": "Python 3",
   "language": "python",
   "name": "python3"
  },
  "language_info": {
   "codemirror_mode": {
    "name": "ipython",
    "version": 3
   },
   "file_extension": ".py",
   "mimetype": "text/x-python",
   "name": "python",
   "nbconvert_exporter": "python",
   "pygments_lexer": "ipython3",
   "version": "3.10.14"
  }
 },
 "nbformat": 4,
 "nbformat_minor": 4
}
