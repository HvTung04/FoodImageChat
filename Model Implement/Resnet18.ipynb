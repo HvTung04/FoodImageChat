{
 "cells": [
  {
   "cell_type": "code",
   "execution_count": 7,
   "metadata": {
    "execution": {
     "iopub.execute_input": "2024-12-14T05:44:27.634819Z",
     "iopub.status.busy": "2024-12-14T05:44:27.634006Z",
     "iopub.status.idle": "2024-12-14T05:44:27.638488Z",
     "shell.execute_reply": "2024-12-14T05:44:27.637570Z",
     "shell.execute_reply.started": "2024-12-14T05:44:27.634782Z"
    },
    "trusted": true
   },
   "outputs": [],
   "source": [
    "train_data_dir = \"/kaggle/input/vietnamesefoods/FOOD-DATASET/TRAIN\"\n",
    "val_data_dir = \"/kaggle/input/vietnamesefoods/FOOD-DATASET/VAL\"\n",
    "test_data_dir = \"/kaggle/input/vietnamesefoods/FOOD-DATASET/TEST\""
   ]
  },
  {
   "cell_type": "code",
   "execution_count": 27,
   "metadata": {
    "execution": {
     "iopub.execute_input": "2024-12-14T05:47:43.980876Z",
     "iopub.status.busy": "2024-12-14T05:47:43.980022Z",
     "iopub.status.idle": "2024-12-14T05:47:43.990002Z",
     "shell.execute_reply": "2024-12-14T05:47:43.988851Z",
     "shell.execute_reply.started": "2024-12-14T05:47:43.980824Z"
    },
    "trusted": true
   },
   "outputs": [],
   "source": [
    "from torch.utils.data import Dataset\n",
    "from PIL import Image, ImageDraw\n",
    "import numpy as np\n",
    "from xml.etree import ElementTree as ET\n",
    "import os\n",
    "import torch\n",
    "\n",
    "class Dataset(Dataset):\n",
    "    def __init__(self, data_dir, transform):\n",
    "        self.data_dir = data_dir\n",
    "        self.samples = self.load_data(data_dir)\n",
    "        self.transform = transform\n",
    "\n",
    "        self.labels = sorted(set(sample['label'] for sample in self.samples))\n",
    "        self.label_to_idx = {label: idx for idx, label in enumerate(self.labels)}\n",
    "\n",
    "    def __len__(self):\n",
    "        return len(self.samples)\n",
    "    \n",
    "    def __getitem__(self, index):\n",
    "        # get sample at indes\n",
    "        sample = self.samples[index]\n",
    "\n",
    "        # set up image's path\n",
    "        filename = sample['filename']\n",
    "        image_path = os.path.join(self.data_dir, filename)\n",
    "\n",
    "        # open image\n",
    "        image = Image.open(image_path).convert('RGB')\n",
    "        \n",
    "        # image = np.array(image)\n",
    "        transform_image = self.transform(image)\n",
    "\n",
    "        label = self.label_to_idx[sample['label']]\n",
    "        label = torch.tensor(label, dtype=torch.long)\n",
    "        \n",
    "        return transform_image, label\n",
    "\n",
    "    def load_data(self, data_dir):\n",
    "        data = []\n",
    "        \n",
    "        for label in os.listdir(data_dir):\n",
    "            label_path = os.path.join(data_dir, label)\n",
    "            if os.path.isdir(label_path):\n",
    "                for img_file in os.listdir(label_path):\n",
    "                    img_path = os.path.join(label_path, img_file)\n",
    "                    data.append({'filename': img_path, 'label': label})\n",
    "        return data"
   ]
  },
  {
   "cell_type": "code",
   "execution_count": 28,
   "metadata": {
    "execution": {
     "iopub.execute_input": "2024-12-14T05:47:47.082298Z",
     "iopub.status.busy": "2024-12-14T05:47:47.081950Z",
     "iopub.status.idle": "2024-12-14T05:47:47.087776Z",
     "shell.execute_reply": "2024-12-14T05:47:47.086903Z",
     "shell.execute_reply.started": "2024-12-14T05:47:47.082265Z"
    },
    "trusted": true
   },
   "outputs": [],
   "source": [
    "import torch\n",
    "from torchvision import datasets, transforms\n",
    "\n",
    "transform = transforms.Compose([\n",
    "    transforms.Resize((256, 256)), # Resize 256x256\n",
    "    transforms.RandomRotation(30), # Xoay ngẫu nhiên ảnh trong khoảng từ -30 đến 30 độ\n",
    "    transforms.RandomAffine(degrees=0, translate=(0.05, 0.05)), # Dịch ngẫu nhiên từ -5 đến 5 pixel theo cả hai hướng (x, y)\n",
    "    transforms.ToTensor(), # Chuyển đổi ảnh thành tensor\n",
    "    transforms.Normalize(mean=[0.485, 0.456, 0.406], std=[0.229, 0.224, 0.225])\n",
    "])"
   ]
  },
  {
   "cell_type": "code",
   "execution_count": 29,
   "metadata": {
    "execution": {
     "iopub.execute_input": "2024-12-14T05:47:49.396385Z",
     "iopub.status.busy": "2024-12-14T05:47:49.395559Z",
     "iopub.status.idle": "2024-12-14T05:47:49.587233Z",
     "shell.execute_reply": "2024-12-14T05:47:49.586530Z",
     "shell.execute_reply.started": "2024-12-14T05:47:49.396331Z"
    },
    "trusted": true
   },
   "outputs": [],
   "source": [
    "train_dataset = Dataset(train_data_dir, transform)\n",
    "val_dataset = Dataset(val_data_dir, transform) \n",
    "test_dataset = Dataset(test_data_dir, transform)"
   ]
  },
  {
   "cell_type": "code",
   "execution_count": 30,
   "metadata": {
    "execution": {
     "iopub.execute_input": "2024-12-14T05:47:51.068005Z",
     "iopub.status.busy": "2024-12-14T05:47:51.067677Z",
     "iopub.status.idle": "2024-12-14T05:47:51.073733Z",
     "shell.execute_reply": "2024-12-14T05:47:51.072860Z",
     "shell.execute_reply.started": "2024-12-14T05:47:51.067975Z"
    },
    "trusted": true
   },
   "outputs": [
    {
     "data": {
      "text/plain": [
       "(18751, 2757, 5169)"
      ]
     },
     "execution_count": 30,
     "metadata": {},
     "output_type": "execute_result"
    }
   ],
   "source": [
    "len(train_dataset), len(val_dataset), len(test_dataset)"
   ]
  },
  {
   "cell_type": "code",
   "execution_count": 31,
   "metadata": {
    "execution": {
     "iopub.execute_input": "2024-12-14T05:47:52.805303Z",
     "iopub.status.busy": "2024-12-14T05:47:52.804977Z",
     "iopub.status.idle": "2024-12-14T05:47:52.830195Z",
     "shell.execute_reply": "2024-12-14T05:47:52.829385Z",
     "shell.execute_reply.started": "2024-12-14T05:47:52.805274Z"
    },
    "trusted": true
   },
   "outputs": [
    {
     "data": {
      "text/plain": [
       "(torch.Size([3, 256, 256]), tensor(5))"
      ]
     },
     "execution_count": 31,
     "metadata": {},
     "output_type": "execute_result"
    }
   ],
   "source": [
    "img, label = train_dataset[3]\n",
    "img.shape, label"
   ]
  },
  {
   "cell_type": "code",
   "execution_count": 32,
   "metadata": {
    "execution": {
     "iopub.execute_input": "2024-12-14T05:47:56.360768Z",
     "iopub.status.busy": "2024-12-14T05:47:56.359947Z",
     "iopub.status.idle": "2024-12-14T05:47:56.367440Z",
     "shell.execute_reply": "2024-12-14T05:47:56.366537Z",
     "shell.execute_reply.started": "2024-12-14T05:47:56.360730Z"
    },
    "trusted": true
   },
   "outputs": [],
   "source": [
    "import torch.nn as nn\n",
    "\n",
    "class BasicBlock(nn.Module):\n",
    "    def __init__(self, in_channels, out_channels, stride=1):\n",
    "        super(BasicBlock, self).__init__()\n",
    "        self.conv1 = nn.Conv2d(in_channels, out_channels, kernel_size=3, stride=stride, padding=1, bias=False)\n",
    "        self.bn1 = nn.BatchNorm2d(out_channels)\n",
    "        self.relu = nn.ReLU(inplace=True)\n",
    "        self.conv2 = nn.Conv2d(out_channels, out_channels, kernel_size=3, stride=1, padding=1, bias=False)\n",
    "        self.bn2 = nn.BatchNorm2d(out_channels)\n",
    "        \n",
    "        self.shortcut = nn.Sequential()\n",
    "        if stride != 1 or in_channels != out_channels:\n",
    "            self.shortcut = nn.Sequential(\n",
    "                nn.Conv2d(in_channels, out_channels, kernel_size=1, stride=stride, bias=False),\n",
    "                nn.BatchNorm2d(out_channels)\n",
    "            )\n",
    "\n",
    "    def forward(self, x):\n",
    "        out = self.conv1(x)\n",
    "        out = self.bn1(out)\n",
    "        out = self.relu(out)\n",
    "        out = self.conv2(out)\n",
    "        out = self.bn2(out)\n",
    "        out += self.shortcut(x)\n",
    "        out = self.relu(out)\n",
    "        return out"
   ]
  },
  {
   "cell_type": "code",
   "execution_count": 33,
   "metadata": {
    "execution": {
     "iopub.execute_input": "2024-12-14T05:47:58.792886Z",
     "iopub.status.busy": "2024-12-14T05:47:58.792111Z",
     "iopub.status.idle": "2024-12-14T05:47:58.807160Z",
     "shell.execute_reply": "2024-12-14T05:47:58.805480Z",
     "shell.execute_reply.started": "2024-12-14T05:47:58.792847Z"
    },
    "trusted": true
   },
   "outputs": [],
   "source": [
    "class ResNet18(nn.Module):\n",
    "    def __init__(self, num_classes=38):\n",
    "        super(ResNet18, self).__init__()\n",
    "        self.in_channels = 64\n",
    "        self.conv1 = nn.Conv2d(3, 64, kernel_size=3, stride=1, padding=1, bias=False)\n",
    "        self.bn1 = nn.BatchNorm2d(64)\n",
    "        self.relu = nn.ReLU(inplace=True)\n",
    "        self.maxpool = nn.MaxPool2d(kernel_size=3, stride=2, padding=1)\n",
    "        \n",
    "        self.layer1 = self._make_layer(BasicBlock, 64, 2, stride=1)\n",
    "        self.layer2 = self._make_layer(BasicBlock, 128, 2, stride=2)\n",
    "        self.layer3 = self._make_layer(BasicBlock, 256, 2, stride=2)\n",
    "        self.layer4 = self._make_layer(BasicBlock, 512, 2, stride=2)\n",
    "        \n",
    "        self.avgpool = nn.AdaptiveAvgPool2d((1, 1))\n",
    "        self.fc = nn.Linear(512, num_classes)\n",
    "\n",
    "    def _make_layer(self, block, out_channels, num_blocks, stride):\n",
    "        strides = [stride] + [1] * (num_blocks - 1)\n",
    "        layers = []\n",
    "        for stride in strides:\n",
    "            layers.append(block(self.in_channels, out_channels, stride))\n",
    "            self.in_channels = out_channels\n",
    "        return nn.Sequential(*layers)\n",
    "\n",
    "    def forward(self, x):\n",
    "        out = self.conv1(x)\n",
    "        out = self.bn1(out)\n",
    "        out = self.relu(out)\n",
    "        out = self.maxpool(out)\n",
    "        \n",
    "        out = self.layer1(out)\n",
    "        out = self.layer2(out)\n",
    "        out = self.layer3(out)\n",
    "        out = self.layer4(out)\n",
    "        \n",
    "        out = self.avgpool(out)\n",
    "        out = out.view(out.size(0), -1)\n",
    "        out = self.fc(out)\n",
    "        return out"
   ]
  },
  {
   "cell_type": "code",
   "execution_count": 34,
   "metadata": {
    "execution": {
     "iopub.execute_input": "2024-12-14T05:48:03.142173Z",
     "iopub.status.busy": "2024-12-14T05:48:03.141846Z",
     "iopub.status.idle": "2024-12-14T05:48:03.147844Z",
     "shell.execute_reply": "2024-12-14T05:48:03.147022Z",
     "shell.execute_reply.started": "2024-12-14T05:48:03.142140Z"
    },
    "trusted": true
   },
   "outputs": [
    {
     "data": {
      "text/plain": [
       "device(type='cuda')"
      ]
     },
     "execution_count": 34,
     "metadata": {},
     "output_type": "execute_result"
    }
   ],
   "source": [
    "device = torch.device('cuda' if torch.cuda.is_available() else 'cpu')\n",
    "device"
   ]
  },
  {
   "cell_type": "code",
   "execution_count": 35,
   "metadata": {
    "execution": {
     "iopub.execute_input": "2024-12-14T05:48:04.854100Z",
     "iopub.status.busy": "2024-12-14T05:48:04.853539Z",
     "iopub.status.idle": "2024-12-14T05:48:04.859722Z",
     "shell.execute_reply": "2024-12-14T05:48:04.858856Z",
     "shell.execute_reply.started": "2024-12-14T05:48:04.854065Z"
    },
    "trusted": true
   },
   "outputs": [],
   "source": [
    "import torch.optim as optim\n",
    "from torchvision import datasets, transforms\n",
    "from tqdm import tqdm\n",
    "\n",
    "train_loader = torch.utils.data.DataLoader(train_dataset, batch_size=8, shuffle=True)\n",
    "val_loader = torch.utils.data.DataLoader(val_dataset, batch_size=8, shuffle=False)\n",
    "test_loader = torch.utils.data.DataLoader(test_dataset, batch_size=8, shuffle=False)"
   ]
  },
  {
   "cell_type": "code",
   "execution_count": 36,
   "metadata": {
    "execution": {
     "iopub.execute_input": "2024-12-14T05:48:06.793662Z",
     "iopub.status.busy": "2024-12-14T05:48:06.792957Z",
     "iopub.status.idle": "2024-12-14T05:48:06.904197Z",
     "shell.execute_reply": "2024-12-14T05:48:06.903500Z",
     "shell.execute_reply.started": "2024-12-14T05:48:06.793628Z"
    },
    "trusted": true
   },
   "outputs": [],
   "source": [
    "import torch.optim as optim\n",
    "import torch.nn.functional as F\n",
    "\n",
    "weight_decay = 1e-4 \n",
    "\n",
    "model = ResNet18().to(device)\n",
    "criterion = nn.CrossEntropyLoss()\n",
    "optimizer = optim.SGD(\n",
    "    model.parameters(), \n",
    "    lr=0.005, \n",
    "    momentum=0.9, \n",
    "    weight_decay=weight_decay\n",
    ")"
   ]
  },
  {
   "cell_type": "code",
   "execution_count": 37,
   "metadata": {
    "execution": {
     "iopub.execute_input": "2024-12-14T05:48:08.962508Z",
     "iopub.status.busy": "2024-12-14T05:48:08.962132Z",
     "iopub.status.idle": "2024-12-14T05:48:08.968441Z",
     "shell.execute_reply": "2024-12-14T05:48:08.967415Z",
     "shell.execute_reply.started": "2024-12-14T05:48:08.962474Z"
    },
    "trusted": true
   },
   "outputs": [
    {
     "data": {
      "text/plain": [
       "11188326"
      ]
     },
     "execution_count": 37,
     "metadata": {},
     "output_type": "execute_result"
    }
   ],
   "source": [
    "param_count = sum(p.numel() for p in model.parameters())\n",
    "param_count"
   ]
  },
  {
   "cell_type": "code",
   "execution_count": 38,
   "metadata": {
    "execution": {
     "iopub.execute_input": "2024-12-14T05:48:10.823253Z",
     "iopub.status.busy": "2024-12-14T05:48:10.822361Z",
     "iopub.status.idle": "2024-12-14T05:48:10.827189Z",
     "shell.execute_reply": "2024-12-14T05:48:10.826321Z",
     "shell.execute_reply.started": "2024-12-14T05:48:10.823207Z"
    },
    "trusted": true
   },
   "outputs": [],
   "source": [
    "num_epochs = 20"
   ]
  },
  {
   "cell_type": "code",
   "execution_count": 39,
   "metadata": {
    "execution": {
     "iopub.execute_input": "2024-12-14T05:48:12.403431Z",
     "iopub.status.busy": "2024-12-14T05:48:12.402857Z",
     "iopub.status.idle": "2024-12-14T09:29:59.359268Z",
     "shell.execute_reply": "2024-12-14T09:29:59.358319Z",
     "shell.execute_reply.started": "2024-12-14T05:48:12.403395Z"
    },
    "scrolled": true,
    "trusted": true
   },
   "outputs": [
    {
     "name": "stderr",
     "output_type": "stream",
     "text": [
      " 36%|███▋      | 850/2344 [04:38<07:36,  3.27it/s]/opt/conda/lib/python3.10/site-packages/PIL/Image.py:1054: UserWarning: Palette images with Transparency expressed in bytes should be converted to RGBA images\n",
      "  warnings.warn(\n",
      "100%|██████████| 2344/2344 [12:39<00:00,  3.09it/s]\n"
     ]
    },
    {
     "name": "stdout",
     "output_type": "stream",
     "text": [
      "Epoch 1/20 - Train Loss: 3.2605, Accuracy: 12.19%, F1: 0.0761\n"
     ]
    },
    {
     "name": "stderr",
     "output_type": "stream",
     "text": [
      "100%|██████████| 345/345 [01:26<00:00,  4.01it/s]\n"
     ]
    },
    {
     "name": "stdout",
     "output_type": "stream",
     "text": [
      "Validation Loss: 3.1719, Accuracy: 13.38%, F1: 0.0716\n"
     ]
    },
    {
     "name": "stderr",
     "output_type": "stream",
     "text": [
      "  1%|          | 23/2344 [00:06<14:29,  2.67it/s]/opt/conda/lib/python3.10/site-packages/PIL/Image.py:1054: UserWarning: Palette images with Transparency expressed in bytes should be converted to RGBA images\n",
      "  warnings.warn(\n",
      "100%|██████████| 2344/2344 [09:51<00:00,  3.97it/s]\n"
     ]
    },
    {
     "name": "stdout",
     "output_type": "stream",
     "text": [
      "Epoch 2/20 - Train Loss: 2.8954, Accuracy: 20.97%, F1: 0.1532\n"
     ]
    },
    {
     "name": "stderr",
     "output_type": "stream",
     "text": [
      "100%|██████████| 345/345 [01:02<00:00,  5.53it/s]\n"
     ]
    },
    {
     "name": "stdout",
     "output_type": "stream",
     "text": [
      "Validation Loss: 2.6799, Accuracy: 27.49%, F1: 0.2020\n"
     ]
    },
    {
     "name": "stderr",
     "output_type": "stream",
     "text": [
      "  1%|          | 22/2344 [00:05<09:23,  4.12it/s]/opt/conda/lib/python3.10/site-packages/PIL/Image.py:1054: UserWarning: Palette images with Transparency expressed in bytes should be converted to RGBA images\n",
      "  warnings.warn(\n",
      "100%|██████████| 2344/2344 [09:53<00:00,  3.95it/s]\n"
     ]
    },
    {
     "name": "stdout",
     "output_type": "stream",
     "text": [
      "Epoch 3/20 - Train Loss: 2.5953, Accuracy: 28.09%, F1: 0.2235\n"
     ]
    },
    {
     "name": "stderr",
     "output_type": "stream",
     "text": [
      "100%|██████████| 345/345 [01:02<00:00,  5.50it/s]\n"
     ]
    },
    {
     "name": "stdout",
     "output_type": "stream",
     "text": [
      "Validation Loss: 2.4535, Accuracy: 33.22%, F1: 0.2780\n"
     ]
    },
    {
     "name": "stderr",
     "output_type": "stream",
     "text": [
      " 60%|██████    | 1413/2344 [05:56<05:23,  2.88it/s]/opt/conda/lib/python3.10/site-packages/PIL/Image.py:1054: UserWarning: Palette images with Transparency expressed in bytes should be converted to RGBA images\n",
      "  warnings.warn(\n",
      "100%|██████████| 2344/2344 [09:54<00:00,  3.94it/s]\n"
     ]
    },
    {
     "name": "stdout",
     "output_type": "stream",
     "text": [
      "Epoch 4/20 - Train Loss: 2.3341, Accuracy: 34.45%, F1: 0.2881\n"
     ]
    },
    {
     "name": "stderr",
     "output_type": "stream",
     "text": [
      "100%|██████████| 345/345 [01:02<00:00,  5.54it/s]\n"
     ]
    },
    {
     "name": "stdout",
     "output_type": "stream",
     "text": [
      "Validation Loss: 2.3294, Accuracy: 36.02%, F1: 0.3159\n"
     ]
    },
    {
     "name": "stderr",
     "output_type": "stream",
     "text": [
      " 40%|███▉      | 930/2344 [04:00<06:26,  3.66it/s]/opt/conda/lib/python3.10/site-packages/PIL/Image.py:1054: UserWarning: Palette images with Transparency expressed in bytes should be converted to RGBA images\n",
      "  warnings.warn(\n",
      "100%|██████████| 2344/2344 [09:56<00:00,  3.93it/s]\n"
     ]
    },
    {
     "name": "stdout",
     "output_type": "stream",
     "text": [
      "Epoch 5/20 - Train Loss: 2.1191, Accuracy: 39.93%, F1: 0.3507\n"
     ]
    },
    {
     "name": "stderr",
     "output_type": "stream",
     "text": [
      "100%|██████████| 345/345 [01:02<00:00,  5.55it/s]\n"
     ]
    },
    {
     "name": "stdout",
     "output_type": "stream",
     "text": [
      "Validation Loss: 2.1048, Accuracy: 41.86%, F1: 0.3734\n"
     ]
    },
    {
     "name": "stderr",
     "output_type": "stream",
     "text": [
      "  2%|▏         | 51/2344 [00:12<08:48,  4.34it/s]/opt/conda/lib/python3.10/site-packages/PIL/Image.py:1054: UserWarning: Palette images with Transparency expressed in bytes should be converted to RGBA images\n",
      "  warnings.warn(\n",
      "100%|██████████| 2344/2344 [09:52<00:00,  3.95it/s]\n"
     ]
    },
    {
     "name": "stdout",
     "output_type": "stream",
     "text": [
      "Epoch 6/20 - Train Loss: 1.9229, Accuracy: 45.27%, F1: 0.4031\n"
     ]
    },
    {
     "name": "stderr",
     "output_type": "stream",
     "text": [
      "100%|██████████| 345/345 [01:02<00:00,  5.56it/s]\n"
     ]
    },
    {
     "name": "stdout",
     "output_type": "stream",
     "text": [
      "Validation Loss: 1.8994, Accuracy: 47.08%, F1: 0.4427\n"
     ]
    },
    {
     "name": "stderr",
     "output_type": "stream",
     "text": [
      " 53%|█████▎    | 1254/2344 [05:15<04:12,  4.31it/s]/opt/conda/lib/python3.10/site-packages/PIL/Image.py:1054: UserWarning: Palette images with Transparency expressed in bytes should be converted to RGBA images\n",
      "  warnings.warn(\n",
      "100%|██████████| 2344/2344 [09:51<00:00,  3.96it/s]\n"
     ]
    },
    {
     "name": "stdout",
     "output_type": "stream",
     "text": [
      "Epoch 7/20 - Train Loss: 1.7414, Accuracy: 50.05%, F1: 0.4617\n"
     ]
    },
    {
     "name": "stderr",
     "output_type": "stream",
     "text": [
      "100%|██████████| 345/345 [01:02<00:00,  5.53it/s]\n"
     ]
    },
    {
     "name": "stdout",
     "output_type": "stream",
     "text": [
      "Validation Loss: 1.5979, Accuracy: 54.66%, F1: 0.5258\n"
     ]
    },
    {
     "name": "stderr",
     "output_type": "stream",
     "text": [
      " 58%|█████▊    | 1367/2344 [05:44<03:41,  4.41it/s]/opt/conda/lib/python3.10/site-packages/PIL/Image.py:1054: UserWarning: Palette images with Transparency expressed in bytes should be converted to RGBA images\n",
      "  warnings.warn(\n",
      "100%|██████████| 2344/2344 [09:53<00:00,  3.95it/s]\n"
     ]
    },
    {
     "name": "stdout",
     "output_type": "stream",
     "text": [
      "Epoch 8/20 - Train Loss: 1.5941, Accuracy: 54.71%, F1: 0.5067\n"
     ]
    },
    {
     "name": "stderr",
     "output_type": "stream",
     "text": [
      "100%|██████████| 345/345 [01:02<00:00,  5.53it/s]\n"
     ]
    },
    {
     "name": "stdout",
     "output_type": "stream",
     "text": [
      "Validation Loss: 1.5354, Accuracy: 56.58%, F1: 0.5392\n"
     ]
    },
    {
     "name": "stderr",
     "output_type": "stream",
     "text": [
      " 50%|█████     | 1180/2344 [04:59<06:38,  2.92it/s]/opt/conda/lib/python3.10/site-packages/PIL/Image.py:1054: UserWarning: Palette images with Transparency expressed in bytes should be converted to RGBA images\n",
      "  warnings.warn(\n",
      "100%|██████████| 2344/2344 [09:51<00:00,  3.96it/s]\n"
     ]
    },
    {
     "name": "stdout",
     "output_type": "stream",
     "text": [
      "Epoch 9/20 - Train Loss: 1.4576, Accuracy: 58.11%, F1: 0.5424\n"
     ]
    },
    {
     "name": "stderr",
     "output_type": "stream",
     "text": [
      "100%|██████████| 345/345 [01:02<00:00,  5.51it/s]\n"
     ]
    },
    {
     "name": "stdout",
     "output_type": "stream",
     "text": [
      "Validation Loss: 1.4595, Accuracy: 59.45%, F1: 0.5588\n"
     ]
    },
    {
     "name": "stderr",
     "output_type": "stream",
     "text": [
      " 31%|███       | 730/2344 [03:04<06:33,  4.10it/s]/opt/conda/lib/python3.10/site-packages/PIL/Image.py:1054: UserWarning: Palette images with Transparency expressed in bytes should be converted to RGBA images\n",
      "  warnings.warn(\n",
      "100%|██████████| 2344/2344 [09:51<00:00,  3.96it/s]\n"
     ]
    },
    {
     "name": "stdout",
     "output_type": "stream",
     "text": [
      "Epoch 10/20 - Train Loss: 1.3506, Accuracy: 61.03%, F1: 0.5735\n"
     ]
    },
    {
     "name": "stderr",
     "output_type": "stream",
     "text": [
      "100%|██████████| 345/345 [01:03<00:00,  5.45it/s]\n"
     ]
    },
    {
     "name": "stdout",
     "output_type": "stream",
     "text": [
      "Validation Loss: 1.4095, Accuracy: 59.99%, F1: 0.5683\n"
     ]
    },
    {
     "name": "stderr",
     "output_type": "stream",
     "text": [
      " 30%|██▉       | 699/2344 [02:54<06:33,  4.18it/s]/opt/conda/lib/python3.10/site-packages/PIL/Image.py:1054: UserWarning: Palette images with Transparency expressed in bytes should be converted to RGBA images\n",
      "  warnings.warn(\n",
      "100%|██████████| 2344/2344 [09:53<00:00,  3.95it/s]\n"
     ]
    },
    {
     "name": "stdout",
     "output_type": "stream",
     "text": [
      "Epoch 11/20 - Train Loss: 1.2564, Accuracy: 63.30%, F1: 0.5994\n"
     ]
    },
    {
     "name": "stderr",
     "output_type": "stream",
     "text": [
      "100%|██████████| 345/345 [01:02<00:00,  5.56it/s]\n"
     ]
    },
    {
     "name": "stdout",
     "output_type": "stream",
     "text": [
      "Validation Loss: 1.3586, Accuracy: 63.33%, F1: 0.6104\n"
     ]
    },
    {
     "name": "stderr",
     "output_type": "stream",
     "text": [
      " 10%|█         | 244/2344 [01:02<07:52,  4.44it/s]/opt/conda/lib/python3.10/site-packages/PIL/Image.py:1054: UserWarning: Palette images with Transparency expressed in bytes should be converted to RGBA images\n",
      "  warnings.warn(\n",
      "100%|██████████| 2344/2344 [09:53<00:00,  3.95it/s]\n"
     ]
    },
    {
     "name": "stdout",
     "output_type": "stream",
     "text": [
      "Epoch 12/20 - Train Loss: 1.1733, Accuracy: 65.61%, F1: 0.6276\n"
     ]
    },
    {
     "name": "stderr",
     "output_type": "stream",
     "text": [
      "100%|██████████| 345/345 [01:02<00:00,  5.48it/s]\n"
     ]
    },
    {
     "name": "stdout",
     "output_type": "stream",
     "text": [
      "Validation Loss: 1.2661, Accuracy: 64.09%, F1: 0.6122\n"
     ]
    },
    {
     "name": "stderr",
     "output_type": "stream",
     "text": [
      " 58%|█████▊    | 1350/2344 [05:43<03:31,  4.70it/s]/opt/conda/lib/python3.10/site-packages/PIL/Image.py:1054: UserWarning: Palette images with Transparency expressed in bytes should be converted to RGBA images\n",
      "  warnings.warn(\n",
      "100%|██████████| 2344/2344 [09:53<00:00,  3.95it/s]\n"
     ]
    },
    {
     "name": "stdout",
     "output_type": "stream",
     "text": [
      "Epoch 13/20 - Train Loss: 1.0946, Accuracy: 68.11%, F1: 0.6519\n"
     ]
    },
    {
     "name": "stderr",
     "output_type": "stream",
     "text": [
      "100%|██████████| 345/345 [01:03<00:00,  5.47it/s]\n"
     ]
    },
    {
     "name": "stdout",
     "output_type": "stream",
     "text": [
      "Validation Loss: 1.1786, Accuracy: 66.74%, F1: 0.6308\n"
     ]
    },
    {
     "name": "stderr",
     "output_type": "stream",
     "text": [
      "  7%|▋         | 158/2344 [00:40<08:51,  4.11it/s]/opt/conda/lib/python3.10/site-packages/PIL/Image.py:1054: UserWarning: Palette images with Transparency expressed in bytes should be converted to RGBA images\n",
      "  warnings.warn(\n",
      "100%|██████████| 2344/2344 [09:54<00:00,  3.95it/s]\n"
     ]
    },
    {
     "name": "stdout",
     "output_type": "stream",
     "text": [
      "Epoch 14/20 - Train Loss: 1.0227, Accuracy: 70.05%, F1: 0.6724\n"
     ]
    },
    {
     "name": "stderr",
     "output_type": "stream",
     "text": [
      "100%|██████████| 345/345 [01:02<00:00,  5.51it/s]\n"
     ]
    },
    {
     "name": "stdout",
     "output_type": "stream",
     "text": [
      "Validation Loss: 1.3463, Accuracy: 64.06%, F1: 0.6184\n"
     ]
    },
    {
     "name": "stderr",
     "output_type": "stream",
     "text": [
      " 29%|██▉       | 681/2344 [02:54<07:02,  3.94it/s]/opt/conda/lib/python3.10/site-packages/PIL/Image.py:1054: UserWarning: Palette images with Transparency expressed in bytes should be converted to RGBA images\n",
      "  warnings.warn(\n",
      "100%|██████████| 2344/2344 [09:54<00:00,  3.95it/s]\n"
     ]
    },
    {
     "name": "stdout",
     "output_type": "stream",
     "text": [
      "Epoch 15/20 - Train Loss: 0.9581, Accuracy: 71.62%, F1: 0.6852\n"
     ]
    },
    {
     "name": "stderr",
     "output_type": "stream",
     "text": [
      "100%|██████████| 345/345 [01:03<00:00,  5.44it/s]\n"
     ]
    },
    {
     "name": "stdout",
     "output_type": "stream",
     "text": [
      "Validation Loss: 1.0998, Accuracy: 69.10%, F1: 0.6687\n"
     ]
    },
    {
     "name": "stderr",
     "output_type": "stream",
     "text": [
      " 29%|██▊       | 669/2344 [02:50<06:17,  4.44it/s]/opt/conda/lib/python3.10/site-packages/PIL/Image.py:1054: UserWarning: Palette images with Transparency expressed in bytes should be converted to RGBA images\n",
      "  warnings.warn(\n",
      "100%|██████████| 2344/2344 [09:51<00:00,  3.96it/s]\n"
     ]
    },
    {
     "name": "stdout",
     "output_type": "stream",
     "text": [
      "Epoch 16/20 - Train Loss: 0.9066, Accuracy: 73.34%, F1: 0.7060\n"
     ]
    },
    {
     "name": "stderr",
     "output_type": "stream",
     "text": [
      "100%|██████████| 345/345 [01:03<00:00,  5.48it/s]\n"
     ]
    },
    {
     "name": "stdout",
     "output_type": "stream",
     "text": [
      "Validation Loss: 1.0473, Accuracy: 71.31%, F1: 0.6956\n"
     ]
    },
    {
     "name": "stderr",
     "output_type": "stream",
     "text": [
      " 36%|███▌      | 843/2344 [03:34<05:49,  4.29it/s]/opt/conda/lib/python3.10/site-packages/PIL/Image.py:1054: UserWarning: Palette images with Transparency expressed in bytes should be converted to RGBA images\n",
      "  warnings.warn(\n",
      "100%|██████████| 2344/2344 [09:54<00:00,  3.94it/s]\n"
     ]
    },
    {
     "name": "stdout",
     "output_type": "stream",
     "text": [
      "Epoch 17/20 - Train Loss: 0.8523, Accuracy: 74.92%, F1: 0.7211\n"
     ]
    },
    {
     "name": "stderr",
     "output_type": "stream",
     "text": [
      "100%|██████████| 345/345 [01:02<00:00,  5.48it/s]\n"
     ]
    },
    {
     "name": "stdout",
     "output_type": "stream",
     "text": [
      "Validation Loss: 1.1270, Accuracy: 68.84%, F1: 0.6680\n"
     ]
    },
    {
     "name": "stderr",
     "output_type": "stream",
     "text": [
      " 19%|█▉        | 448/2344 [01:51<09:23,  3.36it/s]/opt/conda/lib/python3.10/site-packages/PIL/Image.py:1054: UserWarning: Palette images with Transparency expressed in bytes should be converted to RGBA images\n",
      "  warnings.warn(\n",
      "100%|██████████| 2344/2344 [09:53<00:00,  3.95it/s]\n"
     ]
    },
    {
     "name": "stdout",
     "output_type": "stream",
     "text": [
      "Epoch 18/20 - Train Loss: 0.8055, Accuracy: 76.12%, F1: 0.7348\n"
     ]
    },
    {
     "name": "stderr",
     "output_type": "stream",
     "text": [
      "100%|██████████| 345/345 [01:02<00:00,  5.52it/s]\n"
     ]
    },
    {
     "name": "stdout",
     "output_type": "stream",
     "text": [
      "Validation Loss: 1.0125, Accuracy: 70.95%, F1: 0.6906\n"
     ]
    },
    {
     "name": "stderr",
     "output_type": "stream",
     "text": [
      " 73%|███████▎  | 1708/2344 [07:12<03:13,  3.28it/s]/opt/conda/lib/python3.10/site-packages/PIL/Image.py:1054: UserWarning: Palette images with Transparency expressed in bytes should be converted to RGBA images\n",
      "  warnings.warn(\n",
      "100%|██████████| 2344/2344 [09:53<00:00,  3.95it/s]\n"
     ]
    },
    {
     "name": "stdout",
     "output_type": "stream",
     "text": [
      "Epoch 19/20 - Train Loss: 0.7628, Accuracy: 77.56%, F1: 0.7548\n"
     ]
    },
    {
     "name": "stderr",
     "output_type": "stream",
     "text": [
      "100%|██████████| 345/345 [01:02<00:00,  5.50it/s]\n"
     ]
    },
    {
     "name": "stdout",
     "output_type": "stream",
     "text": [
      "Validation Loss: 1.0453, Accuracy: 70.69%, F1: 0.6862\n"
     ]
    },
    {
     "name": "stderr",
     "output_type": "stream",
     "text": [
      " 28%|██▊       | 665/2344 [02:48<06:55,  4.04it/s]/opt/conda/lib/python3.10/site-packages/PIL/Image.py:1054: UserWarning: Palette images with Transparency expressed in bytes should be converted to RGBA images\n",
      "  warnings.warn(\n",
      "100%|██████████| 2344/2344 [09:52<00:00,  3.96it/s]\n"
     ]
    },
    {
     "name": "stdout",
     "output_type": "stream",
     "text": [
      "Epoch 20/20 - Train Loss: 0.7074, Accuracy: 79.23%, F1: 0.7719\n"
     ]
    },
    {
     "name": "stderr",
     "output_type": "stream",
     "text": [
      "100%|██████████| 345/345 [01:02<00:00,  5.52it/s]"
     ]
    },
    {
     "name": "stdout",
     "output_type": "stream",
     "text": [
      "Validation Loss: 1.0280, Accuracy: 72.91%, F1: 0.7041\n"
     ]
    },
    {
     "name": "stderr",
     "output_type": "stream",
     "text": [
      "\n"
     ]
    }
   ],
   "source": [
    "from tqdm import tqdm\n",
    "from sklearn.metrics import f1_score\n",
    "\n",
    "train_losses = []\n",
    "train_accuracy = []\n",
    "val_losses = []\n",
    "val_accuracy = []\n",
    "\n",
    "# Train Network\n",
    "for epoch in range(num_epochs):\n",
    "    train_labels = []\n",
    "    train_preds = []\n",
    "    val_labels = []\n",
    "    val_preds = []\n",
    "\n",
    "    # Training\n",
    "    model.train()\n",
    "    running_loss = 0.0\n",
    "    correct = 0\n",
    "    total = 0\n",
    "\n",
    "    for data in tqdm(train_loader):\n",
    "        inputs, labels = data\n",
    "        inputs, labels = inputs.to(device), labels.to(device)\n",
    "        \n",
    "        optimizer.zero_grad()\n",
    "        outputs = model(inputs)\n",
    "        loss = criterion(outputs, labels)\n",
    "        loss.backward()\n",
    "        optimizer.step()\n",
    "        \n",
    "        running_loss += loss.item()\n",
    "        _, predicted = torch.max(outputs, 1)\n",
    "        total += labels.size(0)\n",
    "        correct += (predicted == labels).sum().item()\n",
    "        train_labels.extend(labels.cpu().numpy())\n",
    "        train_preds.extend(predicted.cpu().numpy())\n",
    "\n",
    "    epoch_loss = running_loss / len(train_loader)\n",
    "    accuracy = 100 * correct / total\n",
    "    f1_train = f1_score(train_labels, train_preds, average='macro')\n",
    "    print(f\"Epoch {epoch+1}/{num_epochs} - Train Loss: {epoch_loss:.4f}, Accuracy: {accuracy:.2f}%, F1: {f1_train:.4f}\")\n",
    "\n",
    "    # Validation\n",
    "    model.eval()\n",
    "    running_loss = 0.0\n",
    "    correct = 0\n",
    "    total = 0\n",
    "    with torch.no_grad():\n",
    "        for data in tqdm(val_loader):\n",
    "            inputs, labels = data\n",
    "            inputs, labels = inputs.to(device), labels.to(device)\n",
    "\n",
    "            outputs = model(inputs)\n",
    "            loss = criterion(outputs, labels)\n",
    "            running_loss += loss.item()\n",
    "            _, predicted = torch.max(outputs, 1)\n",
    "            total += labels.size(0)\n",
    "            correct += (predicted == labels).sum().item()\n",
    "            val_labels.extend(labels.cpu().numpy())\n",
    "            val_preds.extend(predicted.cpu().numpy())\n",
    "\n",
    "    epoch_loss = running_loss / len(val_loader)\n",
    "    accuracy = 100 * correct / total\n",
    "    f1_val = f1_score(val_labels, val_preds, average='macro')\n",
    "    print(f\"Validation Loss: {epoch_loss:.4f}, Accuracy: {accuracy:.2f}%, F1: {f1_val:.4f}\")"
   ]
  },
  {
   "cell_type": "code",
   "execution_count": 40,
   "metadata": {
    "execution": {
     "iopub.execute_input": "2024-12-14T09:37:27.745133Z",
     "iopub.status.busy": "2024-12-14T09:37:27.744757Z",
     "iopub.status.idle": "2024-12-14T09:37:27.820394Z",
     "shell.execute_reply": "2024-12-14T09:37:27.819611Z",
     "shell.execute_reply.started": "2024-12-14T09:37:27.745102Z"
    },
    "trusted": true
   },
   "outputs": [
    {
     "name": "stdout",
     "output_type": "stream",
     "text": [
      "Model saved to /kaggle/working/ResNet18_38.pth\n"
     ]
    }
   ],
   "source": [
    "# Đường dẫn lưu file \n",
    "model_save_path = '/kaggle/working/ResNet18_38.pth'\n",
    "\n",
    "# Lưu state_dict của mô hình\n",
    "torch.save(model.state_dict(), model_save_path)\n",
    "print(f\"Model saved to {model_save_path}\")"
   ]
  },
  {
   "cell_type": "code",
   "execution_count": 41,
   "metadata": {
    "execution": {
     "iopub.execute_input": "2024-12-14T09:37:38.420888Z",
     "iopub.status.busy": "2024-12-14T09:37:38.420183Z",
     "iopub.status.idle": "2024-12-14T09:37:38.952227Z",
     "shell.execute_reply": "2024-12-14T09:37:38.951414Z",
     "shell.execute_reply.started": "2024-12-14T09:37:38.420850Z"
    },
    "trusted": true
   },
   "outputs": [
    {
     "data": {
      "image/png": "[encoded data removed]",
      "text/plain": [
       "<Figure size 1200x600 with 2 Axes>"
      ]
     },
     "metadata": {},
     "output_type": "display_data"
    }
   ],
   "source": [
    "import matplotlib.pyplot as plt\n",
    "\n",
    "# Vẽ đồ thị loss\n",
    "plt.figure(figsize=(12, 6))\n",
    "plt.subplot(1, 2, 1)\n",
    "plt.plot(train_losses, label='Train Loss')\n",
    "plt.plot(val_losses, label='Validation Loss')\n",
    "plt.xlabel('Epochs')\n",
    "plt.ylabel('Loss')\n",
    "plt.title('Train vs Validation Loss')\n",
    "plt.legend()\n",
    "plt.grid(True)\n",
    "\n",
    "# Vẽ đồ thị accuracy\n",
    "plt.subplot(1, 2, 2)\n",
    "plt.plot(train_accuracy, label='Train Accuracy')\n",
    "plt.plot(val_accuracy, label='Validation Accuracy')\n",
    "plt.xlabel('Epochs')\n",
    "plt.ylabel('Accuracy (%)')\n",
    "plt.title('Train vs Validation Accuracy')\n",
    "plt.legend()\n",
    "plt.grid(True)\n",
    "\n",
    "# Hiển thị đồ thị\n",
    "plt.tight_layout()\n",
    "plt.show()\n"
   ]
  },
  {
   "cell_type": "code",
   "execution_count": null,
   "metadata": {
    "execution": {
     "iopub.status.busy": "2024-12-14T05:44:15.547178Z",
     "iopub.status.idle": "2024-12-14T05:44:15.547499Z",
     "shell.execute_reply": "2024-12-14T05:44:15.547329Z",
     "shell.execute_reply.started": "2024-12-14T05:44:15.547316Z"
    },
    "trusted": true
   },
   "outputs": [],
   "source": [
    "# Load trạng thái đã lưu\n",
    "model.load_state_dict(torch.load(\"/kaggle/input/modelstate/model_2.pth\"))\n",
    "\n",
    "# Đặt mô hình ở chế độ đánh giá\n",
    "model.eval()"
   ]
  },
  {
   "cell_type": "code",
   "execution_count": 42,
   "metadata": {
    "execution": {
     "iopub.execute_input": "2024-12-14T09:38:07.343206Z",
     "iopub.status.busy": "2024-12-14T09:38:07.342274Z",
     "iopub.status.idle": "2024-12-14T09:41:04.306331Z",
     "shell.execute_reply": "2024-12-14T09:41:04.305406Z",
     "shell.execute_reply.started": "2024-12-14T09:38:07.343160Z"
    },
    "trusted": true
   },
   "outputs": [],
   "source": [
    "from sklearn.metrics import accuracy_score, precision_score, recall_score, f1_score, classification_report\n",
    "\n",
    "# Đặt mô hình ở chế độ đánh giá\n",
    "model.eval()\n",
    "\n",
    "# Biến để lưu nhãn và dự đoán\n",
    "all_labels = []\n",
    "all_preds = []\n",
    "\n",
    "# Không tính gradient khi đánh giá\n",
    "with torch.no_grad():\n",
    "    for inputs, labels in test_loader:\n",
    "        # Chuyển dữ liệu sang thiết bị phù hợp (CPU/GPU)\n",
    "        inputs, labels = inputs.to(device), labels.to(device)\n",
    "\n",
    "        # Dự đoán\n",
    "        outputs = model(inputs)\n",
    "        _, predicted = torch.max(outputs, 1)\n",
    "\n",
    "        # Lưu nhãn thật và dự đoán\n",
    "        all_labels.extend(labels.cpu().numpy())\n",
    "        all_preds.extend(predicted.cpu().numpy())\n",
    "\n",
    "# Sử dụng sklearn để tính toán các chỉ số\n",
    "accuracy = accuracy_score(all_labels, all_preds)\n",
    "recall = recall_score(all_labels, all_preds, average=None)  # None để tính cho từng nhãn\n",
    "precision = precision_score(all_labels, all_preds, average=None)\n",
    "f1 = f1_score(all_labels, all_preds, average=None)\n"
   ]
  },
  {
   "cell_type": "code",
   "execution_count": 43,
   "metadata": {
    "execution": {
     "iopub.execute_input": "2024-12-14T09:41:04.308725Z",
     "iopub.status.busy": "2024-12-14T09:41:04.307885Z",
     "iopub.status.idle": "2024-12-14T09:41:04.327604Z",
     "shell.execute_reply": "2024-12-14T09:41:04.326763Z",
     "shell.execute_reply.started": "2024-12-14T09:41:04.308680Z"
    },
    "trusted": true
   },
   "outputs": [
    {
     "name": "stdout",
     "output_type": "stream",
     "text": [
      "\n",
      "Classification Report:\n",
      "                  precision    recall  f1-score   support\n",
      "\n",
      "        Banh beo       0.89      0.76      0.82       129\n",
      "    Banh bot loc       0.67      0.69      0.68       144\n",
      "        Banh can       0.88      0.70      0.78       149\n",
      "       Banh canh       0.64      0.42      0.51       193\n",
      "      Banh chung       0.53      0.74      0.62       102\n",
      "       Banh cuon       0.83      0.67      0.74       228\n",
      "        Banh duc       0.52      0.43      0.47       133\n",
      "        Banh gio       0.84      0.71      0.77       129\n",
      "       Banh khot       0.89      0.77      0.82       167\n",
      "         Banh mi       0.65      0.93      0.76       268\n",
      "        Banh pia       0.79      0.82      0.81        89\n",
      "        Banh tet       0.78      0.56      0.65       138\n",
      "Banh trang nuong       0.73      0.75      0.74       159\n",
      "        Banh xeo       0.75      0.80      0.78       235\n",
      "      Bun bo Hue       0.73      0.75      0.74       306\n",
      " Bun dau mam tom       0.94      0.91      0.93       184\n",
      "         Bun mam       0.66      0.81      0.73       155\n",
      "        Bun rieu       0.74      0.64      0.69       231\n",
      "  Bun thit nuong       0.69      0.69      0.69       150\n",
      "      Bánh cu đơ       0.41      0.72      0.52        18\n",
      "     Bánh mì cay       0.78      0.50      0.61        14\n",
      "     Bánh đa cua       0.33      0.57      0.42        14\n",
      "   Bánh đậu xanh       0.43      0.53      0.47        17\n",
      "          Bò bía       0.39      0.58      0.47        19\n",
      "          Bún cá       0.00      0.00      0.00        13\n",
      "       Ca kho to       0.61      0.90      0.73       136\n",
      "       Canh chua       0.73      0.77      0.75       165\n",
      "         Cao lau       0.42      0.85      0.56       124\n",
      "       Chao long       0.87      0.75      0.81       215\n",
      "         Com tam       0.86      0.84      0.85       189\n",
      "        Cơm cháy       0.35      0.67      0.46        18\n",
      "        Goi cuon       0.90      0.69      0.78       172\n",
      "         Hu tieu       0.67      0.57      0.62       197\n",
      "        Mi quang       0.85      0.72      0.78       177\n",
      "        Nem chua       0.87      0.44      0.59       109\n",
      "       Nem nướng       0.36      0.81      0.50        16\n",
      "             Pho       0.66      0.65      0.66       162\n",
      "         Xoi xeo       0.85      0.78      0.81       105\n",
      "\n",
      "        accuracy                           0.72      5169\n",
      "       macro avg       0.67      0.68      0.66      5169\n",
      "    weighted avg       0.74      0.72      0.72      5169\n",
      "\n"
     ]
    }
   ],
   "source": [
    "# Báo cáo chi tiết\n",
    "print(\"\\nClassification Report:\")\n",
    "print(classification_report(all_labels, all_preds, target_names=test_dataset.labels))"
   ]
  },
  {
   "cell_type": "code",
   "execution_count": 47,
   "metadata": {
    "execution": {
     "iopub.execute_input": "2024-12-14T09:52:18.144137Z",
     "iopub.status.busy": "2024-12-14T09:52:18.143230Z",
     "iopub.status.idle": "2024-12-14T09:52:18.185086Z",
     "shell.execute_reply": "2024-12-14T09:52:18.184313Z",
     "shell.execute_reply.started": "2024-12-14T09:52:18.144088Z"
    },
    "trusted": true
   },
   "outputs": [
    {
     "name": "stdout",
     "output_type": "stream",
     "text": [
      "Dự đoán: Canh chua\n"
     ]
    }
   ],
   "source": [
    "from PIL import Image\n",
    "import torch\n",
    "import torchvision.transforms as transforms\n",
    "\n",
    "def predict_image(img_path, model, device, class_names):\n",
    "    image = Image.open(img_path).convert('RGB')\n",
    "    preprocess = transforms.Compose([\n",
    "        transforms.Resize((224, 224)),  # Thay đổi kích thước phù hợp với mô hình\n",
    "        transforms.ToTensor(),         # Chuyển ảnh thành tensor\n",
    "        transforms.Normalize(mean=[0.485, 0.456, 0.406], std=[0.229, 0.224, 0.225])\n",
    "    ])\n",
    "    image_tensor = preprocess(image).unsqueeze(0)  # Thêm chiều batch\n",
    "    image_tensor = image_tensor.to(device)\n",
    "    model.eval()\n",
    "    with torch.no_grad():\n",
    "        outputs = model(image_tensor)\n",
    "        _, predicted = torch.max(outputs, 1)\n",
    "    predicted_class = class_names[predicted.item()]\n",
    "    return predicted_class\n",
    "\n",
    "# Ví dụ sử dụng\n",
    "class_names = ['Banh beo',\n",
    " 'Banh bot loc',\n",
    " 'Banh can',\n",
    " 'Banh canh',\n",
    " 'Banh chung',\n",
    " 'Banh cuon',\n",
    " 'Banh duc',\n",
    " 'Banh gio',\n",
    " 'Banh khot',\n",
    " 'Banh mi',\n",
    " 'Banh pia',\n",
    " 'Banh tet',\n",
    " 'Banh trang nuong',\n",
    " 'Banh xeo',\n",
    " 'Bun bo Hue',\n",
    " 'Bun dau mam tom',\n",
    " 'Bun mam',\n",
    " 'Bun rieu',\n",
    " 'Bun thit nuong',\n",
    " 'Bánh cu đơ',\n",
    " 'Bánh mì cay',\n",
    " 'Bánh đa cua',\n",
    " 'Bánh đậu xanh',\n",
    " 'Bò bía',\n",
    " 'Bún cá',\n",
    " 'Ca kho to',\n",
    " 'Canh chua',\n",
    " 'Cao lau',\n",
    " 'Chao long',\n",
    " 'Com tam',\n",
    " 'Cơm cháy',\n",
    " 'Goi cuon',\n",
    " 'Hu tieu',\n",
    " 'Mi quang',\n",
    " 'Nem chua',\n",
    " 'Nem nướng',\n",
    " 'Pho',\n",
    " 'Xoi xeo']\n",
    "img_path = \"/kaggle/input/ffdfsdffds/r1.jpg\"\n",
    "predicted_label = predict_image(img_path, model, device, class_names)\n",
    "print(f\"Dự đoán: {predicted_label}\")"
   ]
  }
 ],
 "metadata": {
  "kaggle": {
   "accelerator": "nvidiaTeslaT4",
   "dataSources": [
    {
     "datasetId": 6266435,
     "sourceId": 10150608,
     "sourceType": "datasetVersion"
    },
    {
     "datasetId": 6301209,
     "sourceId": 10197787,
     "sourceType": "datasetVersion"
    }
   ],
   "dockerImageVersionId": 30805,
   "isGpuEnabled": true,
   "isInternetEnabled": true,
   "language": "python",
   "sourceType": "notebook"
  },
  "kernelspec": {
   "display_name": "Python 3",
   "language": "python",
   "name": "python3"
  },
  "language_info": {
   "codemirror_mode": {
    "name": "ipython",
    "version": 3
   },
   "file_extension": ".py",
   "mimetype": "text/x-python",
   "name": "python",
   "nbconvert_exporter": "python",
   "pygments_lexer": "ipython3",
   "version": "3.10.14"
  }
 },
 "nbformat": 4,
 "nbformat_minor": 4
}
